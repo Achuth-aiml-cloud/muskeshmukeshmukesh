{
  "cells": [
    {
      "cell_type": "markdown",
      "metadata": {
        "id": "4oXfV5clk9LD"
      },
      "source": [
        "# PHASE 1: Dataset Preparation & Exploration\n",
        "## COVID-19 Tweets Analysis Project\n",
        "\n",
        "This notebook covers:\n",
        "- Step 1-2: Dataset Loading & Exploration\n",
        "- Step 3: Data Cleaning\n",
        "- Step 4: Text Preprocessing"
      ]
    },
    {
      "cell_type": "code",
      "execution_count": 1,
      "metadata": {
        "id": "kq2PPDa1k9LH"
      },
      "outputs": [],
      "source": [
        "# Import required libraries\n",
        "import pandas as pd\n",
        "import numpy as np\n",
        "import matplotlib.pyplot as plt\n",
        "import seaborn as sns\n",
        "import re\n",
        "from datetime import datetime\n",
        "import warnings\n",
        "warnings.filterwarnings('ignore')\n",
        "\n",
        "# Set style for visualizations\n",
        "sns.set_style('whitegrid')\n",
        "plt.rcParams['figure.figsize'] = (12, 6)"
      ]
    },
    {
      "cell_type": "markdown",
      "metadata": {
        "id": "L6fOK-cOk9LI"
      },
      "source": [
        "## Step 1-2: Load & Explore Dataset"
      ]
    },
    {
      "cell_type": "code",
      "execution_count": 2,
      "metadata": {
        "colab": {
          "base_uri": "https://localhost:8080/"
        },
        "id": "bF4n-1iWk9LI",
        "outputId": "6b684feb-173b-4c60-ce8b-47301b5b63e6"
      },
      "outputs": [
        {
          "output_type": "stream",
          "name": "stdout",
          "text": [
            "Dataset loaded successfully!\n",
            "\n",
            "Dataset Shape: (179108, 13)\n",
            "Number of tweets: 179,108\n",
            "Number of columns: 13\n"
          ]
        }
      ],
      "source": [
        "# Load the dataset\n",
        "df = pd.read_csv('/content/covid19_tweets.csv')\n",
        "\n",
        "print(\"Dataset loaded successfully!\")\n",
        "print(f\"\\nDataset Shape: {df.shape}\")\n",
        "print(f\"Number of tweets: {df.shape[0]:,}\")\n",
        "print(f\"Number of columns: {df.shape[1]}\")"
      ]
    },
    {
      "cell_type": "code",
      "execution_count": 3,
      "metadata": {
        "colab": {
          "base_uri": "https://localhost:8080/",
          "height": 449
        },
        "id": "xDTDKhPjk9LI",
        "outputId": "373bfa85-fb92-4cf6-93e4-2b1d3f3dab3c"
      },
      "outputs": [
        {
          "output_type": "stream",
          "name": "stdout",
          "text": [
            "\n",
            "First 5 rows of the dataset:\n"
          ]
        },
        {
          "output_type": "execute_result",
          "data": {
            "text/plain": [
              "         user_name         user_location  \\\n",
              "0           ᏉᎥ☻լꂅϮ            astroworld   \n",
              "1    Tom Basile 🇺🇸          New York, NY   \n",
              "2  Time4fisticuffs      Pewee Valley, KY   \n",
              "3      ethel mertz  Stuck in the Middle    \n",
              "4         DIPR-J&K     Jammu and Kashmir   \n",
              "\n",
              "                                    user_description         user_created  \\\n",
              "0  wednesday addams as a disney princess keepin i...  2017-05-26 05:46:42   \n",
              "1  Husband, Father, Columnist & Commentator. Auth...  2009-04-16 20:06:23   \n",
              "2  #Christian #Catholic #Conservative #Reagan #Re...  2009-02-28 18:57:41   \n",
              "3  #Browns #Indians #ClevelandProud #[]_[] #Cavs ...  2019-03-07 01:45:06   \n",
              "4  🖊️Official Twitter handle of Department of Inf...  2017-02-12 06:45:15   \n",
              "\n",
              "   user_followers  user_friends  user_favourites  user_verified  \\\n",
              "0             624           950            18775          False   \n",
              "1            2253          1677               24           True   \n",
              "2            9275          9525             7254          False   \n",
              "3             197           987             1488          False   \n",
              "4          101009           168              101          False   \n",
              "\n",
              "                  date                                               text  \\\n",
              "0  2020-07-25 12:27:21  If I smelled the scent of hand sanitizers toda...   \n",
              "1  2020-07-25 12:27:17  Hey @Yankees @YankeesPR and @MLB - wouldn't it...   \n",
              "2  2020-07-25 12:27:14  @diane3443 @wdunlap @realDonaldTrump Trump nev...   \n",
              "3  2020-07-25 12:27:10  @brookbanktv The one gift #COVID19 has give me...   \n",
              "4  2020-07-25 12:27:08  25 July : Media Bulletin on Novel #CoronaVirus...   \n",
              "\n",
              "                            hashtags               source  is_retweet  \n",
              "0                                NaN   Twitter for iPhone       False  \n",
              "1                                NaN  Twitter for Android       False  \n",
              "2                        ['COVID19']  Twitter for Android       False  \n",
              "3                        ['COVID19']   Twitter for iPhone       False  \n",
              "4  ['CoronaVirusUpdates', 'COVID19']  Twitter for Android       False  "
            ],
            "text/html": [
              "\n",
              "  <div id=\"df-6c035b86-634c-407e-b794-4add7b20ef07\" class=\"colab-df-container\">\n",
              "    <div>\n",
              "<style scoped>\n",
              "    .dataframe tbody tr th:only-of-type {\n",
              "        vertical-align: middle;\n",
              "    }\n",
              "\n",
              "    .dataframe tbody tr th {\n",
              "        vertical-align: top;\n",
              "    }\n",
              "\n",
              "    .dataframe thead th {\n",
              "        text-align: right;\n",
              "    }\n",
              "</style>\n",
              "<table border=\"1\" class=\"dataframe\">\n",
              "  <thead>\n",
              "    <tr style=\"text-align: right;\">\n",
              "      <th></th>\n",
              "      <th>user_name</th>\n",
              "      <th>user_location</th>\n",
              "      <th>user_description</th>\n",
              "      <th>user_created</th>\n",
              "      <th>user_followers</th>\n",
              "      <th>user_friends</th>\n",
              "      <th>user_favourites</th>\n",
              "      <th>user_verified</th>\n",
              "      <th>date</th>\n",
              "      <th>text</th>\n",
              "      <th>hashtags</th>\n",
              "      <th>source</th>\n",
              "      <th>is_retweet</th>\n",
              "    </tr>\n",
              "  </thead>\n",
              "  <tbody>\n",
              "    <tr>\n",
              "      <th>0</th>\n",
              "      <td>ᏉᎥ☻լꂅϮ</td>\n",
              "      <td>astroworld</td>\n",
              "      <td>wednesday addams as a disney princess keepin i...</td>\n",
              "      <td>2017-05-26 05:46:42</td>\n",
              "      <td>624</td>\n",
              "      <td>950</td>\n",
              "      <td>18775</td>\n",
              "      <td>False</td>\n",
              "      <td>2020-07-25 12:27:21</td>\n",
              "      <td>If I smelled the scent of hand sanitizers toda...</td>\n",
              "      <td>NaN</td>\n",
              "      <td>Twitter for iPhone</td>\n",
              "      <td>False</td>\n",
              "    </tr>\n",
              "    <tr>\n",
              "      <th>1</th>\n",
              "      <td>Tom Basile 🇺🇸</td>\n",
              "      <td>New York, NY</td>\n",
              "      <td>Husband, Father, Columnist &amp; Commentator. Auth...</td>\n",
              "      <td>2009-04-16 20:06:23</td>\n",
              "      <td>2253</td>\n",
              "      <td>1677</td>\n",
              "      <td>24</td>\n",
              "      <td>True</td>\n",
              "      <td>2020-07-25 12:27:17</td>\n",
              "      <td>Hey @Yankees @YankeesPR and @MLB - wouldn't it...</td>\n",
              "      <td>NaN</td>\n",
              "      <td>Twitter for Android</td>\n",
              "      <td>False</td>\n",
              "    </tr>\n",
              "    <tr>\n",
              "      <th>2</th>\n",
              "      <td>Time4fisticuffs</td>\n",
              "      <td>Pewee Valley, KY</td>\n",
              "      <td>#Christian #Catholic #Conservative #Reagan #Re...</td>\n",
              "      <td>2009-02-28 18:57:41</td>\n",
              "      <td>9275</td>\n",
              "      <td>9525</td>\n",
              "      <td>7254</td>\n",
              "      <td>False</td>\n",
              "      <td>2020-07-25 12:27:14</td>\n",
              "      <td>@diane3443 @wdunlap @realDonaldTrump Trump nev...</td>\n",
              "      <td>['COVID19']</td>\n",
              "      <td>Twitter for Android</td>\n",
              "      <td>False</td>\n",
              "    </tr>\n",
              "    <tr>\n",
              "      <th>3</th>\n",
              "      <td>ethel mertz</td>\n",
              "      <td>Stuck in the Middle</td>\n",
              "      <td>#Browns #Indians #ClevelandProud #[]_[] #Cavs ...</td>\n",
              "      <td>2019-03-07 01:45:06</td>\n",
              "      <td>197</td>\n",
              "      <td>987</td>\n",
              "      <td>1488</td>\n",
              "      <td>False</td>\n",
              "      <td>2020-07-25 12:27:10</td>\n",
              "      <td>@brookbanktv The one gift #COVID19 has give me...</td>\n",
              "      <td>['COVID19']</td>\n",
              "      <td>Twitter for iPhone</td>\n",
              "      <td>False</td>\n",
              "    </tr>\n",
              "    <tr>\n",
              "      <th>4</th>\n",
              "      <td>DIPR-J&amp;K</td>\n",
              "      <td>Jammu and Kashmir</td>\n",
              "      <td>🖊️Official Twitter handle of Department of Inf...</td>\n",
              "      <td>2017-02-12 06:45:15</td>\n",
              "      <td>101009</td>\n",
              "      <td>168</td>\n",
              "      <td>101</td>\n",
              "      <td>False</td>\n",
              "      <td>2020-07-25 12:27:08</td>\n",
              "      <td>25 July : Media Bulletin on Novel #CoronaVirus...</td>\n",
              "      <td>['CoronaVirusUpdates', 'COVID19']</td>\n",
              "      <td>Twitter for Android</td>\n",
              "      <td>False</td>\n",
              "    </tr>\n",
              "  </tbody>\n",
              "</table>\n",
              "</div>\n",
              "    <div class=\"colab-df-buttons\">\n",
              "\n",
              "  <div class=\"colab-df-container\">\n",
              "    <button class=\"colab-df-convert\" onclick=\"convertToInteractive('df-6c035b86-634c-407e-b794-4add7b20ef07')\"\n",
              "            title=\"Convert this dataframe to an interactive table.\"\n",
              "            style=\"display:none;\">\n",
              "\n",
              "  <svg xmlns=\"http://www.w3.org/2000/svg\" height=\"24px\" viewBox=\"0 -960 960 960\">\n",
              "    <path d=\"M120-120v-720h720v720H120Zm60-500h600v-160H180v160Zm220 220h160v-160H400v160Zm0 220h160v-160H400v160ZM180-400h160v-160H180v160Zm440 0h160v-160H620v160ZM180-180h160v-160H180v160Zm440 0h160v-160H620v160Z\"/>\n",
              "  </svg>\n",
              "    </button>\n",
              "\n",
              "  <style>\n",
              "    .colab-df-container {\n",
              "      display:flex;\n",
              "      gap: 12px;\n",
              "    }\n",
              "\n",
              "    .colab-df-convert {\n",
              "      background-color: #E8F0FE;\n",
              "      border: none;\n",
              "      border-radius: 50%;\n",
              "      cursor: pointer;\n",
              "      display: none;\n",
              "      fill: #1967D2;\n",
              "      height: 32px;\n",
              "      padding: 0 0 0 0;\n",
              "      width: 32px;\n",
              "    }\n",
              "\n",
              "    .colab-df-convert:hover {\n",
              "      background-color: #E2EBFA;\n",
              "      box-shadow: 0px 1px 2px rgba(60, 64, 67, 0.3), 0px 1px 3px 1px rgba(60, 64, 67, 0.15);\n",
              "      fill: #174EA6;\n",
              "    }\n",
              "\n",
              "    .colab-df-buttons div {\n",
              "      margin-bottom: 4px;\n",
              "    }\n",
              "\n",
              "    [theme=dark] .colab-df-convert {\n",
              "      background-color: #3B4455;\n",
              "      fill: #D2E3FC;\n",
              "    }\n",
              "\n",
              "    [theme=dark] .colab-df-convert:hover {\n",
              "      background-color: #434B5C;\n",
              "      box-shadow: 0px 1px 3px 1px rgba(0, 0, 0, 0.15);\n",
              "      filter: drop-shadow(0px 1px 2px rgba(0, 0, 0, 0.3));\n",
              "      fill: #FFFFFF;\n",
              "    }\n",
              "  </style>\n",
              "\n",
              "    <script>\n",
              "      const buttonEl =\n",
              "        document.querySelector('#df-6c035b86-634c-407e-b794-4add7b20ef07 button.colab-df-convert');\n",
              "      buttonEl.style.display =\n",
              "        google.colab.kernel.accessAllowed ? 'block' : 'none';\n",
              "\n",
              "      async function convertToInteractive(key) {\n",
              "        const element = document.querySelector('#df-6c035b86-634c-407e-b794-4add7b20ef07');\n",
              "        const dataTable =\n",
              "          await google.colab.kernel.invokeFunction('convertToInteractive',\n",
              "                                                    [key], {});\n",
              "        if (!dataTable) return;\n",
              "\n",
              "        const docLinkHtml = 'Like what you see? Visit the ' +\n",
              "          '<a target=\"_blank\" href=https://colab.research.google.com/notebooks/data_table.ipynb>data table notebook</a>'\n",
              "          + ' to learn more about interactive tables.';\n",
              "        element.innerHTML = '';\n",
              "        dataTable['output_type'] = 'display_data';\n",
              "        await google.colab.output.renderOutput(dataTable, element);\n",
              "        const docLink = document.createElement('div');\n",
              "        docLink.innerHTML = docLinkHtml;\n",
              "        element.appendChild(docLink);\n",
              "      }\n",
              "    </script>\n",
              "  </div>\n",
              "\n",
              "\n",
              "    <div id=\"df-2ab006a5-e45a-4f1c-b123-dddb9f18f7b7\">\n",
              "      <button class=\"colab-df-quickchart\" onclick=\"quickchart('df-2ab006a5-e45a-4f1c-b123-dddb9f18f7b7')\"\n",
              "                title=\"Suggest charts\"\n",
              "                style=\"display:none;\">\n",
              "\n",
              "<svg xmlns=\"http://www.w3.org/2000/svg\" height=\"24px\"viewBox=\"0 0 24 24\"\n",
              "     width=\"24px\">\n",
              "    <g>\n",
              "        <path d=\"M19 3H5c-1.1 0-2 .9-2 2v14c0 1.1.9 2 2 2h14c1.1 0 2-.9 2-2V5c0-1.1-.9-2-2-2zM9 17H7v-7h2v7zm4 0h-2V7h2v10zm4 0h-2v-4h2v4z\"/>\n",
              "    </g>\n",
              "</svg>\n",
              "      </button>\n",
              "\n",
              "<style>\n",
              "  .colab-df-quickchart {\n",
              "      --bg-color: #E8F0FE;\n",
              "      --fill-color: #1967D2;\n",
              "      --hover-bg-color: #E2EBFA;\n",
              "      --hover-fill-color: #174EA6;\n",
              "      --disabled-fill-color: #AAA;\n",
              "      --disabled-bg-color: #DDD;\n",
              "  }\n",
              "\n",
              "  [theme=dark] .colab-df-quickchart {\n",
              "      --bg-color: #3B4455;\n",
              "      --fill-color: #D2E3FC;\n",
              "      --hover-bg-color: #434B5C;\n",
              "      --hover-fill-color: #FFFFFF;\n",
              "      --disabled-bg-color: #3B4455;\n",
              "      --disabled-fill-color: #666;\n",
              "  }\n",
              "\n",
              "  .colab-df-quickchart {\n",
              "    background-color: var(--bg-color);\n",
              "    border: none;\n",
              "    border-radius: 50%;\n",
              "    cursor: pointer;\n",
              "    display: none;\n",
              "    fill: var(--fill-color);\n",
              "    height: 32px;\n",
              "    padding: 0;\n",
              "    width: 32px;\n",
              "  }\n",
              "\n",
              "  .colab-df-quickchart:hover {\n",
              "    background-color: var(--hover-bg-color);\n",
              "    box-shadow: 0 1px 2px rgba(60, 64, 67, 0.3), 0 1px 3px 1px rgba(60, 64, 67, 0.15);\n",
              "    fill: var(--button-hover-fill-color);\n",
              "  }\n",
              "\n",
              "  .colab-df-quickchart-complete:disabled,\n",
              "  .colab-df-quickchart-complete:disabled:hover {\n",
              "    background-color: var(--disabled-bg-color);\n",
              "    fill: var(--disabled-fill-color);\n",
              "    box-shadow: none;\n",
              "  }\n",
              "\n",
              "  .colab-df-spinner {\n",
              "    border: 2px solid var(--fill-color);\n",
              "    border-color: transparent;\n",
              "    border-bottom-color: var(--fill-color);\n",
              "    animation:\n",
              "      spin 1s steps(1) infinite;\n",
              "  }\n",
              "\n",
              "  @keyframes spin {\n",
              "    0% {\n",
              "      border-color: transparent;\n",
              "      border-bottom-color: var(--fill-color);\n",
              "      border-left-color: var(--fill-color);\n",
              "    }\n",
              "    20% {\n",
              "      border-color: transparent;\n",
              "      border-left-color: var(--fill-color);\n",
              "      border-top-color: var(--fill-color);\n",
              "    }\n",
              "    30% {\n",
              "      border-color: transparent;\n",
              "      border-left-color: var(--fill-color);\n",
              "      border-top-color: var(--fill-color);\n",
              "      border-right-color: var(--fill-color);\n",
              "    }\n",
              "    40% {\n",
              "      border-color: transparent;\n",
              "      border-right-color: var(--fill-color);\n",
              "      border-top-color: var(--fill-color);\n",
              "    }\n",
              "    60% {\n",
              "      border-color: transparent;\n",
              "      border-right-color: var(--fill-color);\n",
              "    }\n",
              "    80% {\n",
              "      border-color: transparent;\n",
              "      border-right-color: var(--fill-color);\n",
              "      border-bottom-color: var(--fill-color);\n",
              "    }\n",
              "    90% {\n",
              "      border-color: transparent;\n",
              "      border-bottom-color: var(--fill-color);\n",
              "    }\n",
              "  }\n",
              "</style>\n",
              "\n",
              "      <script>\n",
              "        async function quickchart(key) {\n",
              "          const quickchartButtonEl =\n",
              "            document.querySelector('#' + key + ' button');\n",
              "          quickchartButtonEl.disabled = true;  // To prevent multiple clicks.\n",
              "          quickchartButtonEl.classList.add('colab-df-spinner');\n",
              "          try {\n",
              "            const charts = await google.colab.kernel.invokeFunction(\n",
              "                'suggestCharts', [key], {});\n",
              "          } catch (error) {\n",
              "            console.error('Error during call to suggestCharts:', error);\n",
              "          }\n",
              "          quickchartButtonEl.classList.remove('colab-df-spinner');\n",
              "          quickchartButtonEl.classList.add('colab-df-quickchart-complete');\n",
              "        }\n",
              "        (() => {\n",
              "          let quickchartButtonEl =\n",
              "            document.querySelector('#df-2ab006a5-e45a-4f1c-b123-dddb9f18f7b7 button');\n",
              "          quickchartButtonEl.style.display =\n",
              "            google.colab.kernel.accessAllowed ? 'block' : 'none';\n",
              "        })();\n",
              "      </script>\n",
              "    </div>\n",
              "\n",
              "    </div>\n",
              "  </div>\n"
            ],
            "application/vnd.google.colaboratory.intrinsic+json": {
              "type": "dataframe",
              "variable_name": "df"
            }
          },
          "metadata": {},
          "execution_count": 3
        }
      ],
      "source": [
        "# Display first few rows\n",
        "print(\"\\nFirst 5 rows of the dataset:\")\n",
        "df.head()"
      ]
    },
    {
      "cell_type": "code",
      "execution_count": 4,
      "metadata": {
        "colab": {
          "base_uri": "https://localhost:8080/"
        },
        "id": "FDBKu8XQk9LJ",
        "outputId": "37883e5e-48e7-4425-8051-52bd4494e0e6"
      },
      "outputs": [
        {
          "output_type": "stream",
          "name": "stdout",
          "text": [
            "\n",
            "Column Information:\n",
            "<class 'pandas.core.frame.DataFrame'>\n",
            "RangeIndex: 179108 entries, 0 to 179107\n",
            "Data columns (total 13 columns):\n",
            " #   Column            Non-Null Count   Dtype \n",
            "---  ------            --------------   ----- \n",
            " 0   user_name         179108 non-null  object\n",
            " 1   user_location     142337 non-null  object\n",
            " 2   user_description  168822 non-null  object\n",
            " 3   user_created      179108 non-null  object\n",
            " 4   user_followers    179108 non-null  int64 \n",
            " 5   user_friends      179108 non-null  int64 \n",
            " 6   user_favourites   179108 non-null  int64 \n",
            " 7   user_verified     179108 non-null  bool  \n",
            " 8   date              179108 non-null  object\n",
            " 9   text              179108 non-null  object\n",
            " 10  hashtags          127774 non-null  object\n",
            " 11  source            179031 non-null  object\n",
            " 12  is_retweet        179108 non-null  bool  \n",
            "dtypes: bool(2), int64(3), object(8)\n",
            "memory usage: 15.4+ MB\n"
          ]
        }
      ],
      "source": [
        "# Check column information\n",
        "print(\"\\nColumn Information:\")\n",
        "df.info()"
      ]
    },
    {
      "cell_type": "code",
      "execution_count": 5,
      "metadata": {
        "colab": {
          "base_uri": "https://localhost:8080/"
        },
        "id": "N61xm9pMk9LJ",
        "outputId": "4634c5f2-4ebf-401d-b452-6279756fb999"
      },
      "outputs": [
        {
          "output_type": "stream",
          "name": "stdout",
          "text": [
            "\n",
            "Missing Values Analysis:\n",
            "              Column  Missing Count  Missing Percentage\n",
            "10          hashtags          51334               28.66\n",
            "1      user_location          36771               20.53\n",
            "2   user_description          10286                5.74\n",
            "11            source             77                0.04\n"
          ]
        }
      ],
      "source": [
        "# Check for missing values\n",
        "print(\"\\nMissing Values Analysis:\")\n",
        "missing_data = pd.DataFrame({\n",
        "    'Column': df.columns,\n",
        "    'Missing Count': df.isnull().sum().values,\n",
        "    'Missing Percentage': (df.isnull().sum().values / len(df) * 100).round(2)\n",
        "})\n",
        "missing_data = missing_data[missing_data['Missing Count'] > 0].sort_values('Missing Count', ascending=False)\n",
        "print(missing_data)"
      ]
    },
    {
      "cell_type": "code",
      "execution_count": 6,
      "metadata": {
        "colab": {
          "base_uri": "https://localhost:8080/"
        },
        "id": "jI7Z4TRzk9LJ",
        "outputId": "d554bc00-cab0-4d86-8f88-b7dc0ccb7a7e"
      },
      "outputs": [
        {
          "output_type": "stream",
          "name": "stdout",
          "text": [
            "\n",
            "Date Range Analysis:\n",
            "Start Date: 2020-07-24 23:47:08\n",
            "End Date: 2020-08-30 09:07:39\n",
            "Date Range: 36 days\n"
          ]
        }
      ],
      "source": [
        "# Analyze date range\n",
        "df['date'] = pd.to_datetime(df['date'], errors='coerce')\n",
        "print(\"\\nDate Range Analysis:\")\n",
        "print(f\"Start Date: {df['date'].min()}\")\n",
        "print(f\"End Date: {df['date'].max()}\")\n",
        "print(f\"Date Range: {(df['date'].max() - df['date'].min()).days} days\")"
      ]
    },
    {
      "cell_type": "code",
      "execution_count": 7,
      "metadata": {
        "colab": {
          "base_uri": "https://localhost:8080/"
        },
        "id": "jXwtDy_Wk9LK",
        "outputId": "2e097d38-2f3b-48ad-e1f4-dd36d5f7b45b"
      },
      "outputs": [
        {
          "output_type": "stream",
          "name": "stdout",
          "text": [
            "\n",
            "Location Data Analysis:\n",
            "Tweets with location: 142,337\n",
            "Percentage: 79.47%\n",
            "Tweets without location: 36,771\n"
          ]
        }
      ],
      "source": [
        "# Count tweets with location data\n",
        "tweets_with_location = df['user_location'].notna().sum()\n",
        "location_percentage = (tweets_with_location / len(df)) * 100\n",
        "\n",
        "print(\"\\nLocation Data Analysis:\")\n",
        "print(f\"Tweets with location: {tweets_with_location:,}\")\n",
        "print(f\"Percentage: {location_percentage:.2f}%\")\n",
        "print(f\"Tweets without location: {len(df) - tweets_with_location:,}\")"
      ]
    },
    {
      "cell_type": "code",
      "execution_count": 8,
      "metadata": {
        "colab": {
          "base_uri": "https://localhost:8080/",
          "height": 698
        },
        "id": "p02yL7-vk9LK",
        "outputId": "1dac8df6-919f-4b39-ec08-f51abe312f9e"
      },
      "outputs": [
        {
          "output_type": "stream",
          "name": "stdout",
          "text": [
            "\n",
            "Text Length Statistics:\n",
            "count    179108.000000\n",
            "mean        130.517598\n",
            "std          19.455022\n",
            "min          13.000000\n",
            "25%         131.000000\n",
            "50%         140.000000\n",
            "75%         140.000000\n",
            "max         169.000000\n",
            "Name: text_length, dtype: float64\n"
          ]
        },
        {
          "output_type": "display_data",
          "data": {
            "text/plain": [
              "<Figure size 1200x500 with 2 Axes>"
            ],
            "image/png": "[encoded data removed]"
          },
          "metadata": {}
        }
      ],
      "source": [
        "# Analyze text length distribution\n",
        "df['text_length'] = df['text'].astype(str).apply(len)\n",
        "\n",
        "print(\"\\nText Length Statistics:\")\n",
        "print(df['text_length'].describe())\n",
        "\n",
        "# Visualize text length distribution\n",
        "plt.figure(figsize=(12, 5))\n",
        "plt.subplot(1, 2, 1)\n",
        "plt.hist(df['text_length'], bins=50, edgecolor='black', alpha=0.7)\n",
        "plt.xlabel('Text Length (characters)')\n",
        "plt.ylabel('Frequency')\n",
        "plt.title('Distribution of Tweet Lengths')\n",
        "\n",
        "plt.subplot(1, 2, 2)\n",
        "plt.boxplot(df['text_length'])\n",
        "plt.ylabel('Text Length (characters)')\n",
        "plt.title('Box Plot of Tweet Lengths')\n",
        "plt.tight_layout()\n",
        "plt.show()"
      ]
    },
    {
      "cell_type": "code",
      "execution_count": 9,
      "metadata": {
        "colab": {
          "base_uri": "https://localhost:8080/"
        },
        "id": "9ezgig9Wk9LK",
        "outputId": "75f1136f-a8a4-4736-8f55-de270f2f9ef4"
      },
      "outputs": [
        {
          "output_type": "stream",
          "name": "stdout",
          "text": [
            "\n",
            "Duplicate Tweets Analysis:\n",
            "Number of duplicate tweets: 425\n",
            "Percentage of duplicates: 0.24%\n"
          ]
        }
      ],
      "source": [
        "# Check for duplicate tweets\n",
        "duplicates = df.duplicated(subset=['text']).sum()\n",
        "print(f\"\\nDuplicate Tweets Analysis:\")\n",
        "print(f\"Number of duplicate tweets: {duplicates:,}\")\n",
        "print(f\"Percentage of duplicates: {(duplicates/len(df)*100):.2f}%\")"
      ]
    },
    {
      "cell_type": "code",
      "execution_count": 10,
      "metadata": {
        "colab": {
          "base_uri": "https://localhost:8080/"
        },
        "id": "-dfhv3mAk9LK",
        "outputId": "3ab3c059-c6b6-47e2-8798-036798e37bd0"
      },
      "outputs": [
        {
          "output_type": "stream",
          "name": "stdout",
          "text": [
            "\n",
            "Retweet Statistics:\n",
            "Number of retweets: 0\n",
            "Percentage of retweets: 0.00%\n",
            "Original tweets: 179,108\n"
          ]
        }
      ],
      "source": [
        "# Check retweet statistics\n",
        "if 'is_retweet' in df.columns:\n",
        "    retweet_count = df['is_retweet'].sum()\n",
        "    print(f\"\\nRetweet Statistics:\")\n",
        "    print(f\"Number of retweets: {retweet_count:,}\")\n",
        "    print(f\"Percentage of retweets: {(retweet_count/len(df)*100):.2f}%\")\n",
        "    print(f\"Original tweets: {len(df) - retweet_count:,}\")"
      ]
    },
    {
      "cell_type": "markdown",
      "metadata": {
        "id": "4SPMBitjk9LK"
      },
      "source": [
        "## Step 3: Data Cleaning"
      ]
    },
    {
      "cell_type": "code",
      "execution_count": 11,
      "metadata": {
        "colab": {
          "base_uri": "https://localhost:8080/"
        },
        "id": "m0uR3E_vk9LK",
        "outputId": "854b3b46-d29a-428e-917b-f7b0031c9562"
      },
      "outputs": [
        {
          "output_type": "stream",
          "name": "stdout",
          "text": [
            "Starting with 179,108 tweets\n",
            "After removing duplicates: 178,683 tweets\n",
            "After removing empty text: 178,683 tweets\n",
            "After removing missing dates: 178,683 tweets\n",
            "\n",
            "Final dataset size: 178,683 tweets\n",
            "Reduction: 425 tweets (0.24%)\n"
          ]
        }
      ],
      "source": [
        "# Create a copy for cleaning\n",
        "df_clean = df.copy()\n",
        "print(f\"Starting with {len(df_clean):,} tweets\")\n",
        "\n",
        "# 1. Remove duplicate tweets\n",
        "df_clean = df_clean.drop_duplicates(subset=['text'], keep='first')\n",
        "print(f\"After removing duplicates: {len(df_clean):,} tweets\")\n",
        "\n",
        "# 2. Drop rows with empty text\n",
        "df_clean = df_clean[df_clean['text'].notna()]\n",
        "df_clean = df_clean[df_clean['text'].str.strip() != '']\n",
        "print(f\"After removing empty text: {len(df_clean):,} tweets\")\n",
        "\n",
        "# 3. Handle missing dates\n",
        "df_clean = df_clean[df_clean['date'].notna()]\n",
        "print(f\"After removing missing dates: {len(df_clean):,} tweets\")\n",
        "\n",
        "# 4. Filter out retweets (optional - uncomment if you want to remove them)\n",
        "# if 'is_retweet' in df_clean.columns:\n",
        "#     df_clean = df_clean[df_clean['is_retweet'] == False]\n",
        "#     print(f\"After removing retweets: {len(df_clean):,} tweets\")\n",
        "\n",
        "# 5. Keep only relevant columns\n",
        "relevant_columns = ['user_name', 'user_location', 'date', 'text', 'hashtags', 'source']\n",
        "# Only keep columns that exist\n",
        "relevant_columns = [col for col in relevant_columns if col in df_clean.columns]\n",
        "df_clean = df_clean[relevant_columns]\n",
        "\n",
        "print(f\"\\nFinal dataset size: {len(df_clean):,} tweets\")\n",
        "print(f\"Reduction: {len(df) - len(df_clean):,} tweets ({((len(df) - len(df_clean))/len(df)*100):.2f}%)\")"
      ]
    },
    {
      "cell_type": "markdown",
      "metadata": {
        "id": "hc4JUJlBk9LL"
      },
      "source": [
        "## Step 4: Text Preprocessing"
      ]
    },
    {
      "cell_type": "code",
      "execution_count": 12,
      "metadata": {
        "id": "dNBlMSxQk9LL"
      },
      "outputs": [],
      "source": [
        "# Install and import NLTK (if not already installed)\n",
        "import nltk\n",
        "try:\n",
        "    nltk.download('stopwords', quiet=True)\n",
        "    nltk.download('punkt', quiet=True)\n",
        "except:\n",
        "    print(\"NLTK data already downloaded\")\n",
        "\n",
        "from nltk.corpus import stopwords\n",
        "stop_words = set(stopwords.words('english'))"
      ]
    },
    {
      "cell_type": "code",
      "execution_count": 13,
      "metadata": {
        "id": "5HpGaNlBk9LL"
      },
      "outputs": [],
      "source": [
        "def preprocess_text(text):\n",
        "    \"\"\"\n",
        "    Comprehensive text preprocessing function\n",
        "    \"\"\"\n",
        "    # Convert to string and lowercase\n",
        "    text = str(text).lower()\n",
        "\n",
        "    # Remove URLs\n",
        "    text = re.sub(r'http\\S+|www\\S+|https\\S+', '', text, flags=re.MULTILINE)\n",
        "\n",
        "    # Remove @mentions\n",
        "    text = re.sub(r'@\\w+', '', text)\n",
        "\n",
        "    # Remove hashtag symbols but keep the word\n",
        "    text = re.sub(r'#', '', text)\n",
        "\n",
        "    # Remove special characters and punctuation (keep spaces)\n",
        "    text = re.sub(r'[^a-zA-Z\\s]', '', text)\n",
        "\n",
        "    # Remove extra whitespaces\n",
        "    text = re.sub(r'\\s+', ' ', text).strip()\n",
        "\n",
        "    # Remove stop words\n",
        "    words = text.split()\n",
        "    words = [word for word in words if word not in stop_words and len(word) > 2]\n",
        "\n",
        "    return ' '.join(words)"
      ]
    },
    {
      "cell_type": "code",
      "execution_count": 14,
      "metadata": {
        "colab": {
          "base_uri": "https://localhost:8080/"
        },
        "id": "RDBk4AfDk9LL",
        "outputId": "1160a9b8-bd8e-40b3-cddf-22ef301e847f"
      },
      "outputs": [
        {
          "output_type": "stream",
          "name": "stdout",
          "text": [
            "Original Tweet:\n",
            "If I smelled the scent of hand sanitizers today on someone in the past, I would think they were so intoxicated that… https://t.co/QZvYbrOgb0\n",
            "\n",
            "Preprocessed Tweet:\n",
            "smelled scent hand sanitizers today someone past would think intoxicated\n"
          ]
        }
      ],
      "source": [
        "# Test the preprocessing function on a sample tweet\n",
        "sample_tweet = df_clean['text'].iloc[0]\n",
        "print(\"Original Tweet:\")\n",
        "print(sample_tweet)\n",
        "print(\"\\nPreprocessed Tweet:\")\n",
        "print(preprocess_text(sample_tweet))"
      ]
    },
    {
      "cell_type": "code",
      "execution_count": 15,
      "metadata": {
        "colab": {
          "base_uri": "https://localhost:8080/"
        },
        "id": "cZcWeNHFk9LL",
        "outputId": "210e7b9d-3ba2-43f7-e08b-1292fbbaabe2"
      },
      "outputs": [
        {
          "output_type": "stream",
          "name": "stdout",
          "text": [
            "Preprocessing all tweets... This may take a few minutes.\n",
            "\n",
            "Preprocessing complete!\n",
            "Final dataset size: 178,042 tweets\n"
          ]
        }
      ],
      "source": [
        "# Apply preprocessing to all tweets\n",
        "print(\"Preprocessing all tweets... This may take a few minutes.\")\n",
        "df_clean['original_text'] = df_clean['text']  # Keep original for reference\n",
        "df_clean['cleaned_text'] = df_clean['text'].apply(preprocess_text)\n",
        "\n",
        "# Remove tweets that became empty after preprocessing\n",
        "df_clean = df_clean[df_clean['cleaned_text'].str.strip() != '']\n",
        "\n",
        "print(f\"\\nPreprocessing complete!\")\n",
        "print(f\"Final dataset size: {len(df_clean):,} tweets\")"
      ]
    },
    {
      "cell_type": "code",
      "execution_count": 16,
      "metadata": {
        "colab": {
          "base_uri": "https://localhost:8080/"
        },
        "id": "upfKmFpgk9LL",
        "outputId": "bc5a6fc4-8947-409b-8ee5-63617df726c2"
      },
      "outputs": [
        {
          "output_type": "stream",
          "name": "stdout",
          "text": [
            "\n",
            "Sample of Original vs Cleaned Text:\n",
            "\n",
            "--- Tweet 0 ---\n",
            "Original: If I smelled the scent of hand sanitizers today on someone in the past, I would think they were so intoxicated that… https://t.co/QZvYbrOgb0...\n",
            "Cleaned: smelled scent hand sanitizers today someone past would think intoxicated...\n",
            "\n",
            "--- Tweet 1 ---\n",
            "Original: Hey @Yankees @YankeesPR and @MLB - wouldn't it have made more sense to have the players pay their respects to the A… https://t.co/1QvW0zgyPu...\n",
            "Cleaned: hey wouldnt made sense players pay respects...\n",
            "\n",
            "--- Tweet 2 ---\n",
            "Original: @diane3443 @wdunlap @realDonaldTrump Trump never once claimed #COVID19 was a hoax. We all claim that this effort to… https://t.co/Jkk8vHWHb3...\n",
            "Cleaned: trump never claimed covid hoax claim effort...\n",
            "\n",
            "--- Tweet 3 ---\n",
            "Original: @brookbanktv The one gift #COVID19 has give me is an appreciation for the simple things that were always around me… https://t.co/Z0pOAlFXcW...\n",
            "Cleaned: one gift covid give appreciation simple things always around...\n",
            "\n",
            "--- Tweet 4 ---\n",
            "Original: 25 July : Media Bulletin on Novel #CoronaVirusUpdates #COVID19 \n",
            "@kansalrohit69 @DrSyedSehrish @airnewsalerts @ANI… https://t.co/MN0EEcsJHh...\n",
            "Cleaned: july media bulletin novel coronavirusupdates covid...\n",
            "\n",
            "--- Tweet 5 ---\n",
            "Original: #coronavirus #covid19 deaths continue to rise. It's almost  as bad as it ever was.  Politicians and businesses want… https://t.co/hXMHooXX2C...\n",
            "Cleaned: coronavirus covid deaths continue rise almost bad ever politicians businesses want...\n",
            "\n",
            "--- Tweet 6 ---\n",
            "Original: How #COVID19 Will Change Work in General (and recruiting, specifically) via/ @ProactiveTalent #Recruiting… https://t.co/bjZxzGPMbK...\n",
            "Cleaned: covid change work general recruiting specifically via recruiting...\n",
            "\n",
            "--- Tweet 7 ---\n",
            "Original: You now have to wear face coverings when out shopping - this includes a visit to your local Community Pharmacy… https://t.co/OSu5Q4kdd7...\n",
            "Cleaned: wear face coverings shopping includes visit local community pharmacy...\n",
            "\n",
            "--- Tweet 8 ---\n",
            "Original: Praying for good health and recovery of @ChouhanShivraj .\n",
            "#covid19\n",
            "#covidPositive...\n",
            "Cleaned: praying good health recovery covid covidpositive...\n",
            "\n",
            "--- Tweet 9 ---\n",
            "Original: POPE AS GOD - Prophet Sadhu Sundar Selvaraj. Watch here at https://t.co/7X5RTyKVji \n",
            "\n",
            "#HurricaneHanna #COVID19… https://t.co/06dZcGUnwL...\n",
            "Cleaned: pope god prophet sadhu sundar selvaraj watch hurricanehanna covid...\n"
          ]
        }
      ],
      "source": [
        "# Show comparison of original vs cleaned text\n",
        "comparison_df = df_clean[['original_text', 'cleaned_text']].head(10)\n",
        "print(\"\\nSample of Original vs Cleaned Text:\")\n",
        "for idx, row in comparison_df.iterrows():\n",
        "    print(f\"\\n--- Tweet {idx} ---\")\n",
        "    print(f\"Original: {row['original_text'][:150]}...\")\n",
        "    print(f\"Cleaned: {row['cleaned_text'][:150]}...\")"
      ]
    },
    {
      "cell_type": "code",
      "execution_count": 17,
      "metadata": {
        "colab": {
          "base_uri": "https://localhost:8080/",
          "height": 594
        },
        "id": "S5sMdiJik9LL",
        "outputId": "c57e96da-84ae-4470-b7e4-c84081675720"
      },
      "outputs": [
        {
          "output_type": "stream",
          "name": "stdout",
          "text": [
            "\n",
            "Cleaned Text Statistics:\n",
            "Average text length: 68.82 characters\n",
            "Average word count: 9.43 words\n",
            "Median word count: 10 words\n"
          ]
        },
        {
          "output_type": "display_data",
          "data": {
            "text/plain": [
              "<Figure size 1200x500 with 2 Axes>"
            ],
            "image/png": "[encoded data removed]"
          },
          "metadata": {}
        }
      ],
      "source": [
        "# Calculate statistics on cleaned text\n",
        "df_clean['cleaned_text_length'] = df_clean['cleaned_text'].apply(len)\n",
        "df_clean['word_count'] = df_clean['cleaned_text'].apply(lambda x: len(x.split()))\n",
        "\n",
        "print(\"\\nCleaned Text Statistics:\")\n",
        "print(f\"Average text length: {df_clean['cleaned_text_length'].mean():.2f} characters\")\n",
        "print(f\"Average word count: {df_clean['word_count'].mean():.2f} words\")\n",
        "print(f\"Median word count: {df_clean['word_count'].median():.0f} words\")\n",
        "\n",
        "# Visualize word count distribution\n",
        "plt.figure(figsize=(12, 5))\n",
        "plt.subplot(1, 2, 1)\n",
        "plt.hist(df_clean['word_count'], bins=50, edgecolor='black', alpha=0.7, color='green')\n",
        "plt.xlabel('Word Count')\n",
        "plt.ylabel('Frequency')\n",
        "plt.title('Distribution of Word Counts (After Cleaning)')\n",
        "\n",
        "plt.subplot(1, 2, 2)\n",
        "df_clean['word_count'].plot(kind='box', color='green')\n",
        "plt.ylabel('Word Count')\n",
        "plt.title('Box Plot of Word Counts (After Cleaning)')\n",
        "plt.tight_layout()\n",
        "plt.show()"
      ]
    },
    {
      "cell_type": "markdown",
      "metadata": {
        "id": "caLxlpU5k9LL"
      },
      "source": [
        "## Save Cleaned Dataset"
      ]
    },
    {
      "cell_type": "code",
      "execution_count": 19,
      "metadata": {
        "colab": {
          "base_uri": "https://localhost:8080/"
        },
        "id": "u1vgKEqxk9LL",
        "outputId": "cdb8cb24-a2e2-4d96-a773-a3a98fadd36a"
      },
      "outputs": [
        {
          "output_type": "stream",
          "name": "stdout",
          "text": [
            "\n",
            "Cleaned dataset saved successfully to: covid19_tweets_cleaned.csv\n",
            "Total tweets saved: 178,042\n",
            "Columns saved: ['user_name', 'user_location', 'date', 'text', 'hashtags', 'source', 'original_text', 'cleaned_text', 'cleaned_text_length', 'word_count']\n"
          ]
        }
      ],
      "source": [
        "# Save the cleaned dataset\n",
        "output_path = 'covid19_tweets_cleaned.csv'\n",
        "df_clean.to_csv(output_path, index=False)\n",
        "\n",
        "print(f\"\\nCleaned dataset saved successfully to: {output_path}\")\n",
        "print(f\"Total tweets saved: {len(df_clean):,}\")\n",
        "print(f\"Columns saved: {list(df_clean.columns)}\")"
      ]
    },
    {
      "cell_type": "code",
      "execution_count": 21,
      "metadata": {
        "colab": {
          "base_uri": "https://localhost:8080/"
        },
        "id": "2iDxbfGOk9LL",
        "outputId": "97c593e9-d383-4f86-9bb6-dcb699064a44"
      },
      "outputs": [
        {
          "output_type": "stream",
          "name": "stdout",
          "text": [
            "\n",
            "Original dataset: 179,108 tweets\n",
            "Cleaned dataset: 178,042 tweets\n",
            "Reduction: 1,066 tweets\n",
            "\n",
            "Data saved to: covid19_tweets_cleaned.csv\n"
          ]
        }
      ],
      "source": [
        "\n",
        "print(f\"\\nOriginal dataset: {len(df):,} tweets\")\n",
        "print(f\"Cleaned dataset: {len(df_clean):,} tweets\")\n",
        "print(f\"Reduction: {len(df) - len(df_clean):,} tweets\")\n",
        "print(f\"\\nData saved to: {output_path}\")\n"
      ]
    }
  ],
  "metadata": {
    "kernelspec": {
      "display_name": "Python 3",
      "language": "python",
      "name": "python3"
    },
    "language_info": {
      "codemirror_mode": {
        "name": "ipython",
        "version": 3
      },
      "file_extension": ".py",
      "mimetype": "text/x-python",
      "name": "python",
      "nbconvert_exporter": "python",
      "pygments_lexer": "ipython3",
      "version": "3.8.0"
    },
    "colab": {
      "provenance": []
    }
  },
  "nbformat": 4,
  "nbformat_minor": 0
}