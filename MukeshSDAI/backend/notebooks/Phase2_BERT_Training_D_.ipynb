{
  "cells": [
    {
      "cell_type": "markdown",
      "metadata": {
        "id": "xvD2bQm9m4gJ"
      },
      "source": [
        "# PHASE 2: BERT Model Setup & Training\n",
        "## COVID-19 Tweets Disease Detection\n",
        "\n",
        "This notebook covers:\n",
        "- Step 5: Install Required Libraries\n",
        "- Step 6: Label Creation\n",
        "- Step 7: BERT Tokenization\n",
        "- Step 8: Get BERT Embeddings\n",
        "- Step 9: Train Disease Detection Classifier\n",
        "- Step 10: Semantic Similarity Setup\n",
        "- Step 11: Symptom Extraction"
      ]
    },
    {
      "cell_type": "markdown",
      "metadata": {
        "id": "z2aDEaVQm4gL"
      },
      "source": [
        "## Step 5: Import Required Libraries"
      ]
    },
    {
      "cell_type": "code",
      "execution_count": 1,
      "metadata": {
        "colab": {
          "base_uri": "https://localhost:8080/"
        },
        "id": "9v5lKf-sm4gM",
        "outputId": "f6e56034-70ef-44bd-8cdb-f1bf836f0f16"
      },
      "outputs": [
        {
          "output_type": "stream",
          "name": "stdout",
          "text": [
            "Using device: cpu\n"
          ]
        }
      ],
      "source": [
        "# Basic libraries\n",
        "import pandas as pd\n",
        "import numpy as np\n",
        "import matplotlib.pyplot as plt\n",
        "import seaborn as sns\n",
        "import re\n",
        "import pickle\n",
        "import warnings\n",
        "warnings.filterwarnings('ignore')\n",
        "\n",
        "# PyTorch and Transformers\n",
        "import torch\n",
        "from transformers import BertTokenizer, BertModel\n",
        "from torch.utils.data import TensorDataset, DataLoader, RandomSampler, SequentialSampler\n",
        "\n",
        "# Sklearn\n",
        "from sklearn.model_selection import train_test_split\n",
        "from sklearn.ensemble import RandomForestClassifier\n",
        "from sklearn.linear_model import LogisticRegression\n",
        "from sklearn.metrics import accuracy_score, precision_score, recall_score, f1_score, classification_report, confusion_matrix\n",
        "from sklearn.metrics.pairwise import cosine_similarity\n",
        "\n",
        "# Set random seeds for reproducibility\n",
        "np.random.seed(42)\n",
        "torch.manual_seed(42)\n",
        "\n",
        "# Check if GPU is available\n",
        "device = torch.device('cuda' if torch.cuda.is_available() else 'cpu')\n",
        "print(f\"Using device: {device}\")\n",
        "if torch.cuda.is_available():\n",
        "    print(f\"GPU: {torch.cuda.get_device_name(0)}\")"
      ]
    },
    {
      "cell_type": "markdown",
      "metadata": {
        "id": "ZoxXukJJm4gN"
      },
      "source": [
        "## Load Cleaned Dataset"
      ]
    },
    {
      "cell_type": "code",
      "execution_count": 3,
      "metadata": {
        "colab": {
          "base_uri": "https://localhost:8080/",
          "height": 486
        },
        "id": "UUbohGpcm4gO",
        "outputId": "a285e0aa-6807-4f16-98f3-761a736df7d8"
      },
      "outputs": [
        {
          "output_type": "stream",
          "name": "stdout",
          "text": [
            "Dataset loaded: 178,042 tweets\n",
            "Columns: ['user_name', 'user_location', 'date', 'text', 'hashtags', 'source', 'original_text', 'cleaned_text', 'cleaned_text_length', 'word_count']\n"
          ]
        },
        {
          "output_type": "execute_result",
          "data": {
            "text/plain": [
              "         user_name         user_location                 date  \\\n",
              "0           ᏉᎥ☻լꂅϮ            astroworld  2020-07-25 12:27:21   \n",
              "1    Tom Basile 🇺🇸          New York, NY  2020-07-25 12:27:17   \n",
              "2  Time4fisticuffs      Pewee Valley, KY  2020-07-25 12:27:14   \n",
              "3      ethel mertz  Stuck in the Middle   2020-07-25 12:27:10   \n",
              "4         DIPR-J&K     Jammu and Kashmir  2020-07-25 12:27:08   \n",
              "\n",
              "                                                text  \\\n",
              "0  If I smelled the scent of hand sanitizers toda...   \n",
              "1  Hey @Yankees @YankeesPR and @MLB - wouldn't it...   \n",
              "2  @diane3443 @wdunlap @realDonaldTrump Trump nev...   \n",
              "3  @brookbanktv The one gift #COVID19 has give me...   \n",
              "4  25 July : Media Bulletin on Novel #CoronaVirus...   \n",
              "\n",
              "                            hashtags               source  \\\n",
              "0                                NaN   Twitter for iPhone   \n",
              "1                                NaN  Twitter for Android   \n",
              "2                        ['COVID19']  Twitter for Android   \n",
              "3                        ['COVID19']   Twitter for iPhone   \n",
              "4  ['CoronaVirusUpdates', 'COVID19']  Twitter for Android   \n",
              "\n",
              "                                       original_text  \\\n",
              "0  If I smelled the scent of hand sanitizers toda...   \n",
              "1  Hey @Yankees @YankeesPR and @MLB - wouldn't it...   \n",
              "2  @diane3443 @wdunlap @realDonaldTrump Trump nev...   \n",
              "3  @brookbanktv The one gift #COVID19 has give me...   \n",
              "4  25 July : Media Bulletin on Novel #CoronaVirus...   \n",
              "\n",
              "                                        cleaned_text  cleaned_text_length  \\\n",
              "0  smelled scent hand sanitizers today someone pa...                   72   \n",
              "1        hey wouldnt made sense players pay respects                   43   \n",
              "2        trump never claimed covid hoax claim effort                   43   \n",
              "3  one gift covid give appreciation simple things...                   60   \n",
              "4  july media bulletin novel coronavirusupdates c...                   50   \n",
              "\n",
              "   word_count  \n",
              "0          10  \n",
              "1           7  \n",
              "2           7  \n",
              "3           9  \n",
              "4           6  "
            ],
            "text/html": [
              "\n",
              "  <div id=\"df-dd3899ab-4cde-483e-aac5-f964fa0dbbf9\" class=\"colab-df-container\">\n",
              "    <div>\n",
              "<style scoped>\n",
              "    .dataframe tbody tr th:only-of-type {\n",
              "        vertical-align: middle;\n",
              "    }\n",
              "\n",
              "    .dataframe tbody tr th {\n",
              "        vertical-align: top;\n",
              "    }\n",
              "\n",
              "    .dataframe thead th {\n",
              "        text-align: right;\n",
              "    }\n",
              "</style>\n",
              "<table border=\"1\" class=\"dataframe\">\n",
              "  <thead>\n",
              "    <tr style=\"text-align: right;\">\n",
              "      <th></th>\n",
              "      <th>user_name</th>\n",
              "      <th>user_location</th>\n",
              "      <th>date</th>\n",
              "      <th>text</th>\n",
              "      <th>hashtags</th>\n",
              "      <th>source</th>\n",
              "      <th>original_text</th>\n",
              "      <th>cleaned_text</th>\n",
              "      <th>cleaned_text_length</th>\n",
              "      <th>word_count</th>\n",
              "    </tr>\n",
              "  </thead>\n",
              "  <tbody>\n",
              "    <tr>\n",
              "      <th>0</th>\n",
              "      <td>ᏉᎥ☻լꂅϮ</td>\n",
              "      <td>astroworld</td>\n",
              "      <td>2020-07-25 12:27:21</td>\n",
              "      <td>If I smelled the scent of hand sanitizers toda...</td>\n",
              "      <td>NaN</td>\n",
              "      <td>Twitter for iPhone</td>\n",
              "      <td>If I smelled the scent of hand sanitizers toda...</td>\n",
              "      <td>smelled scent hand sanitizers today someone pa...</td>\n",
              "      <td>72</td>\n",
              "      <td>10</td>\n",
              "    </tr>\n",
              "    <tr>\n",
              "      <th>1</th>\n",
              "      <td>Tom Basile 🇺🇸</td>\n",
              "      <td>New York, NY</td>\n",
              "      <td>2020-07-25 12:27:17</td>\n",
              "      <td>Hey @Yankees @YankeesPR and @MLB - wouldn't it...</td>\n",
              "      <td>NaN</td>\n",
              "      <td>Twitter for Android</td>\n",
              "      <td>Hey @Yankees @YankeesPR and @MLB - wouldn't it...</td>\n",
              "      <td>hey wouldnt made sense players pay respects</td>\n",
              "      <td>43</td>\n",
              "      <td>7</td>\n",
              "    </tr>\n",
              "    <tr>\n",
              "      <th>2</th>\n",
              "      <td>Time4fisticuffs</td>\n",
              "      <td>Pewee Valley, KY</td>\n",
              "      <td>2020-07-25 12:27:14</td>\n",
              "      <td>@diane3443 @wdunlap @realDonaldTrump Trump nev...</td>\n",
              "      <td>['COVID19']</td>\n",
              "      <td>Twitter for Android</td>\n",
              "      <td>@diane3443 @wdunlap @realDonaldTrump Trump nev...</td>\n",
              "      <td>trump never claimed covid hoax claim effort</td>\n",
              "      <td>43</td>\n",
              "      <td>7</td>\n",
              "    </tr>\n",
              "    <tr>\n",
              "      <th>3</th>\n",
              "      <td>ethel mertz</td>\n",
              "      <td>Stuck in the Middle</td>\n",
              "      <td>2020-07-25 12:27:10</td>\n",
              "      <td>@brookbanktv The one gift #COVID19 has give me...</td>\n",
              "      <td>['COVID19']</td>\n",
              "      <td>Twitter for iPhone</td>\n",
              "      <td>@brookbanktv The one gift #COVID19 has give me...</td>\n",
              "      <td>one gift covid give appreciation simple things...</td>\n",
              "      <td>60</td>\n",
              "      <td>9</td>\n",
              "    </tr>\n",
              "    <tr>\n",
              "      <th>4</th>\n",
              "      <td>DIPR-J&amp;K</td>\n",
              "      <td>Jammu and Kashmir</td>\n",
              "      <td>2020-07-25 12:27:08</td>\n",
              "      <td>25 July : Media Bulletin on Novel #CoronaVirus...</td>\n",
              "      <td>['CoronaVirusUpdates', 'COVID19']</td>\n",
              "      <td>Twitter for Android</td>\n",
              "      <td>25 July : Media Bulletin on Novel #CoronaVirus...</td>\n",
              "      <td>july media bulletin novel coronavirusupdates c...</td>\n",
              "      <td>50</td>\n",
              "      <td>6</td>\n",
              "    </tr>\n",
              "  </tbody>\n",
              "</table>\n",
              "</div>\n",
              "    <div class=\"colab-df-buttons\">\n",
              "\n",
              "  <div class=\"colab-df-container\">\n",
              "    <button class=\"colab-df-convert\" onclick=\"convertToInteractive('df-dd3899ab-4cde-483e-aac5-f964fa0dbbf9')\"\n",
              "            title=\"Convert this dataframe to an interactive table.\"\n",
              "            style=\"display:none;\">\n",
              "\n",
              "  <svg xmlns=\"http://www.w3.org/2000/svg\" height=\"24px\" viewBox=\"0 -960 960 960\">\n",
              "    <path d=\"M120-120v-720h720v720H120Zm60-500h600v-160H180v160Zm220 220h160v-160H400v160Zm0 220h160v-160H400v160ZM180-400h160v-160H180v160Zm440 0h160v-160H620v160ZM180-180h160v-160H180v160Zm440 0h160v-160H620v160Z\"/>\n",
              "  </svg>\n",
              "    </button>\n",
              "\n",
              "  <style>\n",
              "    .colab-df-container {\n",
              "      display:flex;\n",
              "      gap: 12px;\n",
              "    }\n",
              "\n",
              "    .colab-df-convert {\n",
              "      background-color: #E8F0FE;\n",
              "      border: none;\n",
              "      border-radius: 50%;\n",
              "      cursor: pointer;\n",
              "      display: none;\n",
              "      fill: #1967D2;\n",
              "      height: 32px;\n",
              "      padding: 0 0 0 0;\n",
              "      width: 32px;\n",
              "    }\n",
              "\n",
              "    .colab-df-convert:hover {\n",
              "      background-color: #E2EBFA;\n",
              "      box-shadow: 0px 1px 2px rgba(60, 64, 67, 0.3), 0px 1px 3px 1px rgba(60, 64, 67, 0.15);\n",
              "      fill: #174EA6;\n",
              "    }\n",
              "\n",
              "    .colab-df-buttons div {\n",
              "      margin-bottom: 4px;\n",
              "    }\n",
              "\n",
              "    [theme=dark] .colab-df-convert {\n",
              "      background-color: #3B4455;\n",
              "      fill: #D2E3FC;\n",
              "    }\n",
              "\n",
              "    [theme=dark] .colab-df-convert:hover {\n",
              "      background-color: #434B5C;\n",
              "      box-shadow: 0px 1px 3px 1px rgba(0, 0, 0, 0.15);\n",
              "      filter: drop-shadow(0px 1px 2px rgba(0, 0, 0, 0.3));\n",
              "      fill: #FFFFFF;\n",
              "    }\n",
              "  </style>\n",
              "\n",
              "    <script>\n",
              "      const buttonEl =\n",
              "        document.querySelector('#df-dd3899ab-4cde-483e-aac5-f964fa0dbbf9 button.colab-df-convert');\n",
              "      buttonEl.style.display =\n",
              "        google.colab.kernel.accessAllowed ? 'block' : 'none';\n",
              "\n",
              "      async function convertToInteractive(key) {\n",
              "        const element = document.querySelector('#df-dd3899ab-4cde-483e-aac5-f964fa0dbbf9');\n",
              "        const dataTable =\n",
              "          await google.colab.kernel.invokeFunction('convertToInteractive',\n",
              "                                                    [key], {});\n",
              "        if (!dataTable) return;\n",
              "\n",
              "        const docLinkHtml = 'Like what you see? Visit the ' +\n",
              "          '<a target=\"_blank\" href=https://colab.research.google.com/notebooks/data_table.ipynb>data table notebook</a>'\n",
              "          + ' to learn more about interactive tables.';\n",
              "        element.innerHTML = '';\n",
              "        dataTable['output_type'] = 'display_data';\n",
              "        await google.colab.output.renderOutput(dataTable, element);\n",
              "        const docLink = document.createElement('div');\n",
              "        docLink.innerHTML = docLinkHtml;\n",
              "        element.appendChild(docLink);\n",
              "      }\n",
              "    </script>\n",
              "  </div>\n",
              "\n",
              "\n",
              "    <div id=\"df-e5415cbd-bc45-4d0c-aec9-b2594c48a2e5\">\n",
              "      <button class=\"colab-df-quickchart\" onclick=\"quickchart('df-e5415cbd-bc45-4d0c-aec9-b2594c48a2e5')\"\n",
              "                title=\"Suggest charts\"\n",
              "                style=\"display:none;\">\n",
              "\n",
              "<svg xmlns=\"http://www.w3.org/2000/svg\" height=\"24px\"viewBox=\"0 0 24 24\"\n",
              "     width=\"24px\">\n",
              "    <g>\n",
              "        <path d=\"M19 3H5c-1.1 0-2 .9-2 2v14c0 1.1.9 2 2 2h14c1.1 0 2-.9 2-2V5c0-1.1-.9-2-2-2zM9 17H7v-7h2v7zm4 0h-2V7h2v10zm4 0h-2v-4h2v4z\"/>\n",
              "    </g>\n",
              "</svg>\n",
              "      </button>\n",
              "\n",
              "<style>\n",
              "  .colab-df-quickchart {\n",
              "      --bg-color: #E8F0FE;\n",
              "      --fill-color: #1967D2;\n",
              "      --hover-bg-color: #E2EBFA;\n",
              "      --hover-fill-color: #174EA6;\n",
              "      --disabled-fill-color: #AAA;\n",
              "      --disabled-bg-color: #DDD;\n",
              "  }\n",
              "\n",
              "  [theme=dark] .colab-df-quickchart {\n",
              "      --bg-color: #3B4455;\n",
              "      --fill-color: #D2E3FC;\n",
              "      --hover-bg-color: #434B5C;\n",
              "      --hover-fill-color: #FFFFFF;\n",
              "      --disabled-bg-color: #3B4455;\n",
              "      --disabled-fill-color: #666;\n",
              "  }\n",
              "\n",
              "  .colab-df-quickchart {\n",
              "    background-color: var(--bg-color);\n",
              "    border: none;\n",
              "    border-radius: 50%;\n",
              "    cursor: pointer;\n",
              "    display: none;\n",
              "    fill: var(--fill-color);\n",
              "    height: 32px;\n",
              "    padding: 0;\n",
              "    width: 32px;\n",
              "  }\n",
              "\n",
              "  .colab-df-quickchart:hover {\n",
              "    background-color: var(--hover-bg-color);\n",
              "    box-shadow: 0 1px 2px rgba(60, 64, 67, 0.3), 0 1px 3px 1px rgba(60, 64, 67, 0.15);\n",
              "    fill: var(--button-hover-fill-color);\n",
              "  }\n",
              "\n",
              "  .colab-df-quickchart-complete:disabled,\n",
              "  .colab-df-quickchart-complete:disabled:hover {\n",
              "    background-color: var(--disabled-bg-color);\n",
              "    fill: var(--disabled-fill-color);\n",
              "    box-shadow: none;\n",
              "  }\n",
              "\n",
              "  .colab-df-spinner {\n",
              "    border: 2px solid var(--fill-color);\n",
              "    border-color: transparent;\n",
              "    border-bottom-color: var(--fill-color);\n",
              "    animation:\n",
              "      spin 1s steps(1) infinite;\n",
              "  }\n",
              "\n",
              "  @keyframes spin {\n",
              "    0% {\n",
              "      border-color: transparent;\n",
              "      border-bottom-color: var(--fill-color);\n",
              "      border-left-color: var(--fill-color);\n",
              "    }\n",
              "    20% {\n",
              "      border-color: transparent;\n",
              "      border-left-color: var(--fill-color);\n",
              "      border-top-color: var(--fill-color);\n",
              "    }\n",
              "    30% {\n",
              "      border-color: transparent;\n",
              "      border-left-color: var(--fill-color);\n",
              "      border-top-color: var(--fill-color);\n",
              "      border-right-color: var(--fill-color);\n",
              "    }\n",
              "    40% {\n",
              "      border-color: transparent;\n",
              "      border-right-color: var(--fill-color);\n",
              "      border-top-color: var(--fill-color);\n",
              "    }\n",
              "    60% {\n",
              "      border-color: transparent;\n",
              "      border-right-color: var(--fill-color);\n",
              "    }\n",
              "    80% {\n",
              "      border-color: transparent;\n",
              "      border-right-color: var(--fill-color);\n",
              "      border-bottom-color: var(--fill-color);\n",
              "    }\n",
              "    90% {\n",
              "      border-color: transparent;\n",
              "      border-bottom-color: var(--fill-color);\n",
              "    }\n",
              "  }\n",
              "</style>\n",
              "\n",
              "      <script>\n",
              "        async function quickchart(key) {\n",
              "          const quickchartButtonEl =\n",
              "            document.querySelector('#' + key + ' button');\n",
              "          quickchartButtonEl.disabled = true;  // To prevent multiple clicks.\n",
              "          quickchartButtonEl.classList.add('colab-df-spinner');\n",
              "          try {\n",
              "            const charts = await google.colab.kernel.invokeFunction(\n",
              "                'suggestCharts', [key], {});\n",
              "          } catch (error) {\n",
              "            console.error('Error during call to suggestCharts:', error);\n",
              "          }\n",
              "          quickchartButtonEl.classList.remove('colab-df-spinner');\n",
              "          quickchartButtonEl.classList.add('colab-df-quickchart-complete');\n",
              "        }\n",
              "        (() => {\n",
              "          let quickchartButtonEl =\n",
              "            document.querySelector('#df-e5415cbd-bc45-4d0c-aec9-b2594c48a2e5 button');\n",
              "          quickchartButtonEl.style.display =\n",
              "            google.colab.kernel.accessAllowed ? 'block' : 'none';\n",
              "        })();\n",
              "      </script>\n",
              "    </div>\n",
              "\n",
              "    </div>\n",
              "  </div>\n"
            ],
            "application/vnd.google.colaboratory.intrinsic+json": {
              "type": "dataframe",
              "variable_name": "df"
            }
          },
          "metadata": {},
          "execution_count": 3
        }
      ],
      "source": [
        "# Load the cleaned dataset from Phase 1\n",
        "df = pd.read_csv('/content/covid19_tweets_cleaned.csv')\n",
        "print(f\"Dataset loaded: {len(df):,} tweets\")\n",
        "print(f\"Columns: {list(df.columns)}\")\n",
        "df.head()"
      ]
    },
    {
      "cell_type": "markdown",
      "metadata": {
        "id": "UD9nbVDQm4gO"
      },
      "source": [
        "## Step 6: Label Creation\n",
        "### Create binary labels for disease-related tweets"
      ]
    },
    {
      "cell_type": "code",
      "execution_count": 4,
      "metadata": {
        "colab": {
          "base_uri": "https://localhost:8080/"
        },
        "id": "dzaVmitkm4gO",
        "outputId": "e0bfdec3-bc0b-40f3-c9ca-597a1c318663"
      },
      "outputs": [
        {
          "output_type": "stream",
          "name": "stdout",
          "text": [
            "Total disease keywords: 54\n",
            "Keywords: ['covid', 'corona', 'coronavirus', 'pandemic', 'outbreak', 'fever', 'cough', 'sick', 'ill', 'symptom']...\n"
          ]
        }
      ],
      "source": [
        "# Define disease-related keywords\n",
        "disease_keywords = [\n",
        "    # COVID-19 specific\n",
        "    'covid', 'corona', 'coronavirus', 'pandemic', 'outbreak',\n",
        "\n",
        "    # Symptoms\n",
        "    'fever', 'cough', 'sick', 'ill', 'symptom', 'symptoms',\n",
        "    'fatigue', 'tired', 'breathless', 'breathing', 'shortness of breath',\n",
        "    'headache', 'ache', 'pain', 'sore throat', 'throat',\n",
        "    'loss of taste', 'loss of smell', 'smell', 'taste',\n",
        "    'chills', 'shivering', 'body aches',\n",
        "\n",
        "    # Medical terms\n",
        "    'diagnosed', 'tested', 'positive', 'negative', 'test',\n",
        "    'hospital', 'doctor', 'medical', 'health', 'infected',\n",
        "    'infection', 'virus', 'disease', 'quarantine', 'isolation',\n",
        "    'ventilator', 'icu', 'emergency',\n",
        "\n",
        "    # Preventive measures\n",
        "    'mask', 'sanitizer', 'vaccine', 'vaccination', 'social distancing',\n",
        "    'lockdown', 'stay home', 'wash hands'\n",
        "]\n",
        "\n",
        "print(f\"Total disease keywords: {len(disease_keywords)}\")\n",
        "print(f\"Keywords: {disease_keywords[:10]}...\")"
      ]
    },
    {
      "cell_type": "code",
      "execution_count": 5,
      "metadata": {
        "id": "5q-qvAp4m4gO"
      },
      "outputs": [],
      "source": [
        "def contains_disease_keywords(text, keywords):\n",
        "    \"\"\"\n",
        "    Check if text contains any disease-related keywords\n",
        "    Returns 1 if contains keywords, 0 otherwise\n",
        "    \"\"\"\n",
        "    text = str(text).lower()\n",
        "    for keyword in keywords:\n",
        "        if keyword in text:\n",
        "            return 1\n",
        "    return 0"
      ]
    },
    {
      "cell_type": "code",
      "execution_count": 6,
      "metadata": {
        "colab": {
          "base_uri": "https://localhost:8080/",
          "height": 633
        },
        "id": "jxYfh-JKm4gP",
        "outputId": "9c6ef5b7-6fe0-4975-8ed5-95601e9a2462"
      },
      "outputs": [
        {
          "output_type": "stream",
          "name": "stdout",
          "text": [
            "\n",
            "Label Distribution:\n",
            "label\n",
            "1    135931\n",
            "0     42111\n",
            "Name: count, dtype: int64\n",
            "\n",
            "Disease-related tweets (1): 135,931 (76.35%)\n",
            "Non-disease tweets (0): 42,111 (23.65%)\n"
          ]
        },
        {
          "output_type": "display_data",
          "data": {
            "text/plain": [
              "<Figure size 1000x500 with 2 Axes>"
            ],
            "image/png": "[encoded data removed]"
          },
          "metadata": {}
        }
      ],
      "source": [
        "# Create labels\n",
        "df['label'] = df['cleaned_text'].apply(lambda x: contains_disease_keywords(x, disease_keywords))\n",
        "\n",
        "# Check label distribution\n",
        "print(\"\\nLabel Distribution:\")\n",
        "label_counts = df['label'].value_counts()\n",
        "print(label_counts)\n",
        "print(f\"\\nDisease-related tweets (1): {label_counts[1]:,} ({label_counts[1]/len(df)*100:.2f}%)\")\n",
        "print(f\"Non-disease tweets (0): {label_counts[0]:,} ({label_counts[0]/len(df)*100:.2f}%)\")\n",
        "\n",
        "# Visualize label distribution\n",
        "plt.figure(figsize=(10, 5))\n",
        "plt.subplot(1, 2, 1)\n",
        "label_counts.plot(kind='bar', color=['skyblue', 'salmon'])\n",
        "plt.xlabel('Label')\n",
        "plt.ylabel('Count')\n",
        "plt.title('Label Distribution')\n",
        "plt.xticks([0, 1], ['Non-Disease (0)', 'Disease (1)'], rotation=0)\n",
        "\n",
        "plt.subplot(1, 2, 2)\n",
        "plt.pie(label_counts.values, labels=['Non-Disease', 'Disease'],\n",
        "        autopct='%1.1f%%', colors=['skyblue', 'salmon'], startangle=90)\n",
        "plt.title('Label Distribution Percentage')\n",
        "plt.tight_layout()\n",
        "plt.show()"
      ]
    },
    {
      "cell_type": "markdown",
      "metadata": {
        "id": "mqfldgCem4gP"
      },
      "source": [
        "## Step 7: BERT Tokenization"
      ]
    },
    {
      "cell_type": "code",
      "execution_count": 7,
      "metadata": {
        "colab": {
          "base_uri": "https://localhost:8080/",
          "height": 180,
          "referenced_widgets": [
            "d1c71b11656f468d8502237aceb5f986",
            "ca4dc9623fd24affba26a930f8cdc2f8",
            "2eaa5cfdf0d64c0285bd5eb8492230a3",
            "7413bb55671b42afb87bdff4197b515d",
            "d94b74ff3c7e40308bd144841cf1c261",
            "72764c18fbdb4914bef166d5cdb3da83",
            "5d3f1d2985254d7eb41368fc29a89755",
            "cb6c52a8ae324ea09f7f55ab916f8c7d",
            "ad3e887e5bbf4964b075fb68d19c8a03",
            "384a172ccf9941fb98e1d60df5260ed5",
            "8f37d4516627491b8bb0ade9056106aa",
            "a134abffb3ec48f98367393d717a0f94",
            "0966e621cf1b4fa7896c7e2a8396c518",
            "2455933f981948a587c151d9afdf628d",
            "a05019c9e3804366bba644cca3b299de",
            "067c84a0331543fd8ca4d73327144c80",
            "567e09a1d70d4415b7cfb75d3387b15a",
            "dc4f3b519c9140d08b49e7a08b4924c6",
            "b0413092a6624be1a77f76f67d9f172c",
            "4da4e01b36bc46749c932729f6dfa531",
            "76b5753272b648029576f641edf74f56",
            "c9fe28c2fb444532b128830c9f6081d6",
            "75766dcf6811404280db70db0cfbd760",
            "5d77d5e5d431488fb845f3b73fe2488e",
            "eb76601d99794a938e8d03d44d0da3b3",
            "506492bd401d4853a268e3d55c046681",
            "c52628da46b54120b0c3b45cea9a6421",
            "fa340302ca2e420ca2b6e6e4d2f6ac01",
            "b5e40e71dda94a7dba812dbf9200b193",
            "5f6cea834c514df2a8d8d34993b96e17",
            "45807feff93d4e1b8716b951782e1933",
            "7ed810cf12b740c1bde85bde5314741b",
            "4a3c4cb16f434c4fa332a068416c9b35",
            "e27a16259c954ecc9d30d7d35bdab9de",
            "372af27f0ccd46f1b902fe1e0b549e70",
            "b591c984df984decbd26c2389d4a4a55",
            "cee6c7259b3046ba9732b123c10490ae",
            "3812399c5aa84c55b7cb4b5e4c96b924",
            "52212c81a6cd4c0e89bc85a036299b46",
            "94627107c3f44632be6f685062635fd1",
            "cbbd600575c642b49b9d8c89c8387e68",
            "096da7c3dbd94089b4dc500e3dba6736",
            "3f326352bb1149daacb7f2bff34eba02",
            "ec49b0083a2e4c1eb128bde1346da561"
          ]
        },
        "id": "vJbuG3thm4gP",
        "outputId": "d6d15333-4676-475c-90dc-7365a09d7367"
      },
      "outputs": [
        {
          "output_type": "stream",
          "name": "stdout",
          "text": [
            "Loading BERT tokenizer...\n"
          ]
        },
        {
          "output_type": "display_data",
          "data": {
            "text/plain": [
              "tokenizer_config.json:   0%|          | 0.00/48.0 [00:00<?, ?B/s]"
            ],
            "application/vnd.jupyter.widget-view+json": {
              "version_major": 2,
              "version_minor": 0,
              "model_id": "d1c71b11656f468d8502237aceb5f986"
            }
          },
          "metadata": {}
        },
        {
          "output_type": "display_data",
          "data": {
            "text/plain": [
              "vocab.txt:   0%|          | 0.00/232k [00:00<?, ?B/s]"
            ],
            "application/vnd.jupyter.widget-view+json": {
              "version_major": 2,
              "version_minor": 0,
              "model_id": "a134abffb3ec48f98367393d717a0f94"
            }
          },
          "metadata": {}
        },
        {
          "output_type": "display_data",
          "data": {
            "text/plain": [
              "tokenizer.json:   0%|          | 0.00/466k [00:00<?, ?B/s]"
            ],
            "application/vnd.jupyter.widget-view+json": {
              "version_major": 2,
              "version_minor": 0,
              "model_id": "75766dcf6811404280db70db0cfbd760"
            }
          },
          "metadata": {}
        },
        {
          "output_type": "display_data",
          "data": {
            "text/plain": [
              "config.json:   0%|          | 0.00/570 [00:00<?, ?B/s]"
            ],
            "application/vnd.jupyter.widget-view+json": {
              "version_major": 2,
              "version_minor": 0,
              "model_id": "e27a16259c954ecc9d30d7d35bdab9de"
            }
          },
          "metadata": {}
        },
        {
          "output_type": "stream",
          "name": "stdout",
          "text": [
            "Tokenizer loaded successfully!\n"
          ]
        }
      ],
      "source": [
        "# Load pre-trained BERT tokenizer\n",
        "print(\"Loading BERT tokenizer...\")\n",
        "tokenizer = BertTokenizer.from_pretrained('bert-base-uncased')\n",
        "print(\"Tokenizer loaded successfully!\")"
      ]
    },
    {
      "cell_type": "code",
      "execution_count": 8,
      "metadata": {
        "colab": {
          "base_uri": "https://localhost:8080/"
        },
        "id": "BFForgRBm4gP",
        "outputId": "b9c27570-4fb3-4735-ad0a-50f52baedeb6"
      },
      "outputs": [
        {
          "output_type": "stream",
          "name": "stdout",
          "text": [
            "Original text: smelled scent hand sanitizers today someone past would think intoxicated\n",
            "\n",
            "Input IDs shape: torch.Size([1, 128])\n",
            "Attention mask shape: torch.Size([1, 128])\n",
            "\n",
            "First 20 tokens: ['[CLS]', 'smelled', 'scent', 'hand', 'san', '##iti', '##zers', 'today', 'someone', 'past', 'would', 'think', 'into', '##xi', '##cated', '[SEP]', '[PAD]', '[PAD]', '[PAD]', '[PAD]']\n"
          ]
        }
      ],
      "source": [
        "# Test tokenization on a sample tweet\n",
        "sample_text = df['cleaned_text'].iloc[0]\n",
        "print(f\"Original text: {sample_text}\\n\")\n",
        "\n",
        "# Tokenize\n",
        "encoded = tokenizer.encode_plus(\n",
        "    sample_text,\n",
        "    add_special_tokens=True,\n",
        "    max_length=128,\n",
        "    padding='max_length',\n",
        "    truncation=True,\n",
        "    return_attention_mask=True,\n",
        "    return_tensors='pt'\n",
        ")\n",
        "\n",
        "print(f\"Input IDs shape: {encoded['input_ids'].shape}\")\n",
        "print(f\"Attention mask shape: {encoded['attention_mask'].shape}\")\n",
        "print(f\"\\nFirst 20 tokens: {tokenizer.convert_ids_to_tokens(encoded['input_ids'][0])[:20]}\")"
      ]
    },
    {
      "cell_type": "code",
      "execution_count": 13,
      "metadata": {
        "colab": {
          "base_uri": "https://localhost:8080/"
        },
        "id": "dRNOuGiXm4gQ",
        "outputId": "3a7fc6d1-92ac-45d6-a09a-8e74893b497c"
      },
      "outputs": [
        {
          "output_type": "stream",
          "name": "stdout",
          "text": [
            "\n",
            "Tokenization complete!\n",
            "Input IDs shape: torch.Size([10000, 128])\n",
            "Attention masks shape: torch.Size([10000, 128])\n",
            "Labels shape: torch.Size([10000])\n"
          ]
        }
      ],
      "source": [
        "MAX_LEN = 128\n",
        "SAMPLE_SIZE = 10000\n",
        "\n",
        "# Sample the dataset\n",
        "df_sample = df.head(SAMPLE_SIZE).copy()\n",
        "\n",
        "input_ids = []\n",
        "attention_masks = []\n",
        "\n",
        "for text in df_sample['cleaned_text']:\n",
        "    encoded = tokenizer.encode_plus(\n",
        "        text,\n",
        "        add_special_tokens=True,\n",
        "        max_length=MAX_LEN,\n",
        "        padding='max_length',\n",
        "        truncation=True,\n",
        "        return_attention_mask=True,\n",
        "        return_tensors='pt'\n",
        "    )\n",
        "\n",
        "    input_ids.append(encoded['input_ids'])\n",
        "    attention_masks.append(encoded['attention_mask'])\n",
        "\n",
        "# Convert to tensors\n",
        "input_ids = torch.cat(input_ids, dim=0)\n",
        "attention_masks = torch.cat(attention_masks, dim=0)\n",
        "labels = torch.tensor(df_sample['label'].values)\n",
        "\n",
        "print(f\"\\nTokenization complete!\")\n",
        "print(f\"Input IDs shape: {input_ids.shape}\")\n",
        "print(f\"Attention masks shape: {attention_masks.shape}\")\n",
        "print(f\"Labels shape: {labels.shape}\")"
      ]
    },
    {
      "cell_type": "markdown",
      "metadata": {
        "id": "5Vz8DzcJm4gQ"
      },
      "source": [
        "## Step 8: Get BERT Embeddings"
      ]
    },
    {
      "cell_type": "code",
      "execution_count": 14,
      "metadata": {
        "colab": {
          "base_uri": "https://localhost:8080/"
        },
        "id": "jFHojxSwm4gQ",
        "outputId": "6c498375-45af-4923-927f-17549ab963de"
      },
      "outputs": [
        {
          "output_type": "stream",
          "name": "stdout",
          "text": [
            "Loading BERT model...\n",
            "BERT model loaded successfully!\n"
          ]
        }
      ],
      "source": [
        "# Load pre-trained BERT model\n",
        "print(\"Loading BERT model...\")\n",
        "bert_model = BertModel.from_pretrained('bert-base-uncased')\n",
        "bert_model = bert_model.to(device)\n",
        "bert_model.eval()  # Set to evaluation mode\n",
        "print(\"BERT model loaded successfully!\")"
      ]
    },
    {
      "cell_type": "code",
      "execution_count": 15,
      "metadata": {
        "colab": {
          "base_uri": "https://localhost:8080/"
        },
        "id": "gn6wgyl5m4gQ",
        "outputId": "7f06b784-edf1-4b63-aa3a-deb5a7522414"
      },
      "outputs": [
        {
          "output_type": "stream",
          "name": "stdout",
          "text": [
            "Extracting embeddings in batches of 32...\n",
            "Processed 1600 tweets...\n",
            "Processed 3200 tweets...\n",
            "Processed 4800 tweets...\n",
            "Processed 6400 tweets...\n",
            "Processed 8000 tweets...\n",
            "Processed 9600 tweets...\n",
            "\n",
            "Embeddings extracted successfully!\n",
            "Embeddings shape: (10000, 768)\n",
            "Each tweet is represented by 768 dimensions\n"
          ]
        }
      ],
      "source": [
        "def get_bert_embeddings(input_ids, attention_masks, batch_size=32):\n",
        "    \"\"\"\n",
        "    Extract BERT embeddings from [CLS] token\n",
        "    \"\"\"\n",
        "    embeddings = []\n",
        "\n",
        "    # Create DataLoader for batch processing\n",
        "    dataset = TensorDataset(input_ids, attention_masks)\n",
        "    dataloader = DataLoader(dataset, batch_size=batch_size, shuffle=False)\n",
        "\n",
        "    print(f\"Extracting embeddings in batches of {batch_size}...\")\n",
        "\n",
        "    with torch.no_grad():\n",
        "        for batch_idx, batch in enumerate(dataloader):\n",
        "            batch_input_ids = batch[0].to(device)\n",
        "            batch_attention_masks = batch[1].to(device)\n",
        "\n",
        "            # Get BERT outputs\n",
        "            outputs = bert_model(\n",
        "                input_ids=batch_input_ids,\n",
        "                attention_mask=batch_attention_masks\n",
        "            )\n",
        "\n",
        "            # Extract [CLS] token embeddings (first token)\n",
        "            cls_embeddings = outputs.last_hidden_state[:, 0, :]\n",
        "            embeddings.append(cls_embeddings.cpu().numpy())\n",
        "\n",
        "            if (batch_idx + 1) % 50 == 0:\n",
        "                print(f\"Processed {(batch_idx + 1) * batch_size} tweets...\")\n",
        "\n",
        "    return np.vstack(embeddings)\n",
        "\n",
        "# Extract embeddings\n",
        "embeddings = get_bert_embeddings(input_ids, attention_masks, batch_size=32)\n",
        "\n",
        "print(f\"\\nEmbeddings extracted successfully!\")\n",
        "print(f\"Embeddings shape: {embeddings.shape}\")\n",
        "print(f\"Each tweet is represented by {embeddings.shape[1]} dimensions\")"
      ]
    },
    {
      "cell_type": "code",
      "execution_count": 16,
      "metadata": {
        "colab": {
          "base_uri": "https://localhost:8080/"
        },
        "id": "ht6u0B5Sm4gQ",
        "outputId": "52cd1ca9-ecd6-4772-a943-468e499c31c2"
      },
      "outputs": [
        {
          "output_type": "stream",
          "name": "stdout",
          "text": [
            "Embeddings saved to bert_embeddings.npy\n"
          ]
        }
      ],
      "source": [
        "# Save embeddings for later use\n",
        "np.save('bert_embeddings.npy', embeddings)\n",
        "print(\"Embeddings saved to bert_embeddings.npy\")"
      ]
    },
    {
      "cell_type": "markdown",
      "metadata": {
        "id": "n8mHMEuXm4gQ"
      },
      "source": [
        "## Step 9: Train Disease Detection Classifier"
      ]
    },
    {
      "cell_type": "code",
      "execution_count": 17,
      "metadata": {
        "colab": {
          "base_uri": "https://localhost:8080/"
        },
        "id": "JWUP02lcm4gR",
        "outputId": "4297aad6-6d8e-4a38-9da2-6d22f96c9a23"
      },
      "outputs": [
        {
          "output_type": "stream",
          "name": "stdout",
          "text": [
            "Data split completed:\n",
            "Training set: 8000 samples\n",
            "Test set: 2000 samples\n",
            "\n",
            "Training set label distribution:\n",
            "1    6109\n",
            "0    1891\n",
            "Name: count, dtype: int64\n",
            "\n",
            "Test set label distribution:\n",
            "1    1527\n",
            "0     473\n",
            "Name: count, dtype: int64\n"
          ]
        }
      ],
      "source": [
        "# Split data into train and test sets (80-20 split)\n",
        "X_train, X_test, y_train, y_test = train_test_split(\n",
        "    embeddings,\n",
        "    df_sample['label'].values,\n",
        "    test_size=0.2,\n",
        "    random_state=42,\n",
        "    stratify=df_sample['label'].values\n",
        ")\n",
        "\n",
        "print(\"Data split completed:\")\n",
        "print(f\"Training set: {X_train.shape[0]} samples\")\n",
        "print(f\"Test set: {X_test.shape[0]} samples\")\n",
        "print(f\"\\nTraining set label distribution:\")\n",
        "print(pd.Series(y_train).value_counts())\n",
        "print(f\"\\nTest set label distribution:\")\n",
        "print(pd.Series(y_test).value_counts())"
      ]
    },
    {
      "cell_type": "markdown",
      "metadata": {
        "id": "iP435K1_m4gR"
      },
      "source": [
        "### Train Random Forest Classifier"
      ]
    },
    {
      "cell_type": "code",
      "execution_count": 18,
      "metadata": {
        "colab": {
          "base_uri": "https://localhost:8080/"
        },
        "id": "UN8Rx9QFm4gR",
        "outputId": "cfa28e45-6ecc-49ad-d51c-89c463cd38a5"
      },
      "outputs": [
        {
          "output_type": "stream",
          "name": "stdout",
          "text": [
            "Training Random Forest classifier...\n"
          ]
        },
        {
          "output_type": "stream",
          "name": "stderr",
          "text": [
            "[Parallel(n_jobs=-1)]: Using backend ThreadingBackend with 2 concurrent workers.\n",
            "[Parallel(n_jobs=-1)]: Done  46 tasks      | elapsed:    7.6s\n"
          ]
        },
        {
          "output_type": "stream",
          "name": "stdout",
          "text": [
            "\n",
            "Training complete!\n"
          ]
        },
        {
          "output_type": "stream",
          "name": "stderr",
          "text": [
            "[Parallel(n_jobs=-1)]: Done 100 out of 100 | elapsed:   17.2s finished\n"
          ]
        }
      ],
      "source": [
        "# Train Random Forest classifier\n",
        "print(\"Training Random Forest classifier...\")\n",
        "rf_classifier = RandomForestClassifier(\n",
        "    n_estimators=100,\n",
        "    max_depth=20,\n",
        "    random_state=42,\n",
        "    n_jobs=-1,\n",
        "    verbose=1\n",
        ")\n",
        "\n",
        "rf_classifier.fit(X_train, y_train)\n",
        "print(\"\\nTraining complete!\")"
      ]
    },
    {
      "cell_type": "code",
      "execution_count": 19,
      "metadata": {
        "colab": {
          "base_uri": "https://localhost:8080/",
          "height": 963
        },
        "id": "nMwghyQTm4gR",
        "outputId": "617e7b04-2d74-470c-fd1c-2b6c2d088ca6"
      },
      "outputs": [
        {
          "output_type": "stream",
          "name": "stderr",
          "text": [
            "[Parallel(n_jobs=2)]: Using backend ThreadingBackend with 2 concurrent workers.\n",
            "[Parallel(n_jobs=2)]: Done  46 tasks      | elapsed:    0.0s\n",
            "[Parallel(n_jobs=2)]: Done 100 out of 100 | elapsed:    0.1s finished\n"
          ]
        },
        {
          "output_type": "stream",
          "name": "stdout",
          "text": [
            "\n",
            "============================================================\n",
            "RANDOM FOREST CLASSIFIER RESULTS\n",
            "============================================================\n",
            "\n",
            "Accuracy:  0.8120\n",
            "Precision: 0.8089\n",
            "Recall:    0.9869\n",
            "F1-Score:  0.8891\n",
            "\n",
            "Classification Report:\n",
            "              precision    recall  f1-score   support\n",
            "\n",
            " Non-Disease       0.85      0.25      0.38       473\n",
            "     Disease       0.81      0.99      0.89      1527\n",
            "\n",
            "    accuracy                           0.81      2000\n",
            "   macro avg       0.83      0.62      0.64      2000\n",
            "weighted avg       0.82      0.81      0.77      2000\n",
            "\n"
          ]
        },
        {
          "output_type": "display_data",
          "data": {
            "text/plain": [
              "<Figure size 800x600 with 2 Axes>"
            ],
            "image/png": "[encoded data removed]"
          },
          "metadata": {}
        }
      ],
      "source": [
        "# Make predictions\n",
        "y_pred_rf = rf_classifier.predict(X_test)\n",
        "\n",
        "# Calculate metrics\n",
        "print(\"\\n\" + \"=\"*60)\n",
        "print(\"RANDOM FOREST CLASSIFIER RESULTS\")\n",
        "print(\"=\"*60)\n",
        "\n",
        "accuracy = accuracy_score(y_test, y_pred_rf)\n",
        "precision = precision_score(y_test, y_pred_rf)\n",
        "recall = recall_score(y_test, y_pred_rf)\n",
        "f1 = f1_score(y_test, y_pred_rf)\n",
        "\n",
        "print(f\"\\nAccuracy:  {accuracy:.4f}\")\n",
        "print(f\"Precision: {precision:.4f}\")\n",
        "print(f\"Recall:    {recall:.4f}\")\n",
        "print(f\"F1-Score:  {f1:.4f}\")\n",
        "\n",
        "print(\"\\nClassification Report:\")\n",
        "print(classification_report(y_test, y_pred_rf, target_names=['Non-Disease', 'Disease']))\n",
        "\n",
        "# Confusion Matrix\n",
        "cm = confusion_matrix(y_test, y_pred_rf)\n",
        "plt.figure(figsize=(8, 6))\n",
        "sns.heatmap(cm, annot=True, fmt='d', cmap='Blues',\n",
        "            xticklabels=['Non-Disease', 'Disease'],\n",
        "            yticklabels=['Non-Disease', 'Disease'])\n",
        "plt.title('Confusion Matrix - Random Forest')\n",
        "plt.ylabel('True Label')\n",
        "plt.xlabel('Predicted Label')\n",
        "plt.show()"
      ]
    },
    {
      "cell_type": "markdown",
      "metadata": {
        "id": "Ii7dmre9m4gR"
      },
      "source": [
        "### Train Logistic Regression Classifier"
      ]
    },
    {
      "cell_type": "code",
      "execution_count": 20,
      "metadata": {
        "colab": {
          "base_uri": "https://localhost:8080/"
        },
        "id": "js7PriW8m4gR",
        "outputId": "295423c7-6df6-4952-b4cf-b077c343edbd"
      },
      "outputs": [
        {
          "output_type": "stream",
          "name": "stdout",
          "text": [
            "Training Logistic Regression classifier...\n",
            "\n",
            "Training complete!\n"
          ]
        },
        {
          "output_type": "stream",
          "name": "stderr",
          "text": [
            "[Parallel(n_jobs=1)]: Done   1 out of   1 | elapsed:    2.5s finished\n"
          ]
        }
      ],
      "source": [
        "# Train Logistic Regression classifier\n",
        "print(\"Training Logistic Regression classifier...\")\n",
        "lr_classifier = LogisticRegression(\n",
        "    max_iter=1000,\n",
        "    random_state=42,\n",
        "    verbose=1\n",
        ")\n",
        "\n",
        "lr_classifier.fit(X_train, y_train)\n",
        "print(\"\\nTraining complete!\")"
      ]
    },
    {
      "cell_type": "code",
      "execution_count": 21,
      "metadata": {
        "colab": {
          "base_uri": "https://localhost:8080/",
          "height": 911
        },
        "id": "U-ZqlV_Km4gR",
        "outputId": "65286c99-e10f-477d-8792-f01425c23e56"
      },
      "outputs": [
        {
          "output_type": "stream",
          "name": "stdout",
          "text": [
            "\n",
            "============================================================\n",
            "LOGISTIC REGRESSION CLASSIFIER RESULTS\n",
            "============================================================\n",
            "\n",
            "Accuracy:  0.8780\n",
            "Precision: 0.9115\n",
            "Recall:    0.9306\n",
            "F1-Score:  0.9209\n",
            "\n",
            "Classification Report:\n",
            "              precision    recall  f1-score   support\n",
            "\n",
            " Non-Disease       0.76      0.71      0.73       473\n",
            "     Disease       0.91      0.93      0.92      1527\n",
            "\n",
            "    accuracy                           0.88      2000\n",
            "   macro avg       0.84      0.82      0.83      2000\n",
            "weighted avg       0.88      0.88      0.88      2000\n",
            "\n"
          ]
        },
        {
          "output_type": "display_data",
          "data": {
            "text/plain": [
              "<Figure size 800x600 with 2 Axes>"
            ],
            "image/png": "[encoded data removed]"
          },
          "metadata": {}
        }
      ],
      "source": [
        "# Make predictions\n",
        "y_pred_lr = lr_classifier.predict(X_test)\n",
        "\n",
        "# Calculate metrics\n",
        "print(\"\\n\" + \"=\"*60)\n",
        "print(\"LOGISTIC REGRESSION CLASSIFIER RESULTS\")\n",
        "print(\"=\"*60)\n",
        "\n",
        "accuracy = accuracy_score(y_test, y_pred_lr)\n",
        "precision = precision_score(y_test, y_pred_lr)\n",
        "recall = recall_score(y_test, y_pred_lr)\n",
        "f1 = f1_score(y_test, y_pred_lr)\n",
        "\n",
        "print(f\"\\nAccuracy:  {accuracy:.4f}\")\n",
        "print(f\"Precision: {precision:.4f}\")\n",
        "print(f\"Recall:    {recall:.4f}\")\n",
        "print(f\"F1-Score:  {f1:.4f}\")\n",
        "\n",
        "print(\"\\nClassification Report:\")\n",
        "print(classification_report(y_test, y_pred_lr, target_names=['Non-Disease', 'Disease']))\n",
        "\n",
        "# Confusion Matrix\n",
        "cm = confusion_matrix(y_test, y_pred_lr)\n",
        "plt.figure(figsize=(8, 6))\n",
        "sns.heatmap(cm, annot=True, fmt='d', cmap='Greens',\n",
        "            xticklabels=['Non-Disease', 'Disease'],\n",
        "            yticklabels=['Non-Disease', 'Disease'])\n",
        "plt.title('Confusion Matrix - Logistic Regression')\n",
        "plt.ylabel('True Label')\n",
        "plt.xlabel('Predicted Label')\n",
        "plt.show()"
      ]
    },
    {
      "cell_type": "markdown",
      "metadata": {
        "id": "FsqW0pAim4gR"
      },
      "source": [
        "### Save Best Model"
      ]
    },
    {
      "cell_type": "code",
      "execution_count": 22,
      "metadata": {
        "colab": {
          "base_uri": "https://localhost:8080/"
        },
        "id": "D5pOD2_7m4gS",
        "outputId": "d543e2de-dea5-4e8a-ed1e-4e2bcefa220a"
      },
      "outputs": [
        {
          "output_type": "stream",
          "name": "stdout",
          "text": [
            "Models saved successfully!\n",
            "- Random Forest: ../data/models/rf_classifier.pkl\n",
            "- Logistic Regression: ../data/models/lr_classifier.pkl\n"
          ]
        }
      ],
      "source": [
        "# Save both models\n",
        "with open('rf_classifier.pkl', 'wb') as f:\n",
        "    pickle.dump(rf_classifier, f)\n",
        "\n",
        "with open('lr_classifier.pkl', 'wb') as f:\n",
        "    pickle.dump(lr_classifier, f)\n",
        "\n",
        "print(\"Models saved successfully!\")\n",
        "print(\"- Random Forest: ../data/models/rf_classifier.pkl\")\n",
        "print(\"- Logistic Regression: ../data/models/lr_classifier.pkl\")"
      ]
    },
    {
      "cell_type": "markdown",
      "metadata": {
        "id": "Abrsdlw4m4gS"
      },
      "source": [
        "## Step 10: Semantic Similarity Setup"
      ]
    },
    {
      "cell_type": "code",
      "execution_count": 23,
      "metadata": {
        "colab": {
          "base_uri": "https://localhost:8080/"
        },
        "id": "H6024JPSm4gS",
        "outputId": "77736745-5d8b-4493-b302-0c3129f80525"
      },
      "outputs": [
        {
          "output_type": "stream",
          "name": "stdout",
          "text": [
            "Reference disease-related sentences:\n",
            "1. I have fever and cough symptoms\n",
            "2. Tested positive for COVID-19\n",
            "3. Feeling sick with body aches\n",
            "4. Lost sense of taste and smell\n",
            "5. Having trouble breathing and chest pain\n",
            "6. Experiencing fatigue and headache\n",
            "7. Got diagnosed with coronavirus\n",
            "8. Hospital admission due to severe symptoms\n"
          ]
        }
      ],
      "source": [
        "# Define reference disease-related sentences\n",
        "reference_sentences = [\n",
        "    \"I have fever and cough symptoms\",\n",
        "    \"Tested positive for COVID-19\",\n",
        "    \"Feeling sick with body aches\",\n",
        "    \"Lost sense of taste and smell\",\n",
        "    \"Having trouble breathing and chest pain\",\n",
        "    \"Experiencing fatigue and headache\",\n",
        "    \"Got diagnosed with coronavirus\",\n",
        "    \"Hospital admission due to severe symptoms\"\n",
        "]\n",
        "\n",
        "print(\"Reference disease-related sentences:\")\n",
        "for i, sentence in enumerate(reference_sentences, 1):\n",
        "    print(f\"{i}. {sentence}\")"
      ]
    },
    {
      "cell_type": "code",
      "execution_count": 24,
      "metadata": {
        "colab": {
          "base_uri": "https://localhost:8080/"
        },
        "id": "wlu5BHZOm4gS",
        "outputId": "642a5aac-f665-45d3-bf28-751fefda8404"
      },
      "outputs": [
        {
          "output_type": "stream",
          "name": "stdout",
          "text": [
            "\n",
            "Generating embeddings for reference sentences...\n",
            "Extracting embeddings in batches of 8...\n",
            "Reference embeddings shape: (8, 768)\n"
          ]
        }
      ],
      "source": [
        "# Get embeddings for reference sentences\n",
        "print(\"\\nGenerating embeddings for reference sentences...\")\n",
        "\n",
        "reference_input_ids = []\n",
        "reference_attention_masks = []\n",
        "\n",
        "for sentence in reference_sentences:\n",
        "    encoded = tokenizer.encode_plus(\n",
        "        sentence,\n",
        "        add_special_tokens=True,\n",
        "        max_length=MAX_LEN,\n",
        "        padding='max_length',\n",
        "        truncation=True,\n",
        "        return_attention_mask=True,\n",
        "        return_tensors='pt'\n",
        "    )\n",
        "    reference_input_ids.append(encoded['input_ids'])\n",
        "    reference_attention_masks.append(encoded['attention_mask'])\n",
        "\n",
        "reference_input_ids = torch.cat(reference_input_ids, dim=0)\n",
        "reference_attention_masks = torch.cat(reference_attention_masks, dim=0)\n",
        "\n",
        "# Get embeddings\n",
        "reference_embeddings = get_bert_embeddings(reference_input_ids, reference_attention_masks, batch_size=8)\n",
        "\n",
        "print(f\"Reference embeddings shape: {reference_embeddings.shape}\")"
      ]
    },
    {
      "cell_type": "code",
      "execution_count": 25,
      "metadata": {
        "colab": {
          "base_uri": "https://localhost:8080/"
        },
        "id": "GuAw_l0em4gS",
        "outputId": "759b6656-accc-445e-9385-86b6320d5f63"
      },
      "outputs": [
        {
          "output_type": "stream",
          "name": "stdout",
          "text": [
            "\n",
            "Testing semantic similarity on sample tweets:\n",
            "================================================================================\n",
            "\n",
            "Tweet: smelled scent hand sanitizers today someone past would think intoxicated...\n",
            "Similarity Score: 0.8681\n",
            "Disease-related: YES\n",
            "--------------------------------------------------------------------------------\n",
            "\n",
            "Tweet: hey wouldnt made sense players pay respects...\n",
            "Similarity Score: 0.8297\n",
            "Disease-related: YES\n",
            "--------------------------------------------------------------------------------\n",
            "\n",
            "Tweet: trump never claimed covid hoax claim effort...\n",
            "Similarity Score: 0.8326\n",
            "Disease-related: YES\n",
            "--------------------------------------------------------------------------------\n",
            "\n",
            "Tweet: one gift covid give appreciation simple things always around...\n",
            "Similarity Score: 0.8244\n",
            "Disease-related: YES\n",
            "--------------------------------------------------------------------------------\n",
            "\n",
            "Tweet: july media bulletin novel coronavirusupdates covid...\n",
            "Similarity Score: 0.7926\n",
            "Disease-related: YES\n",
            "--------------------------------------------------------------------------------\n"
          ]
        }
      ],
      "source": [
        "def calculate_similarity(tweet_embedding, reference_embeddings):\n",
        "    \"\"\"\n",
        "    Calculate cosine similarity between tweet and reference sentences\n",
        "    Returns the maximum similarity score\n",
        "    \"\"\"\n",
        "    similarities = cosine_similarity(tweet_embedding.reshape(1, -1), reference_embeddings)\n",
        "    return np.max(similarities)\n",
        "\n",
        "# Test similarity on sample tweets\n",
        "print(\"\\nTesting semantic similarity on sample tweets:\")\n",
        "print(\"=\"*80)\n",
        "\n",
        "for i in range(5):\n",
        "    tweet_text = df_sample['cleaned_text'].iloc[i]\n",
        "    tweet_embedding = embeddings[i]\n",
        "    similarity = calculate_similarity(tweet_embedding, reference_embeddings)\n",
        "\n",
        "    print(f\"\\nTweet: {tweet_text[:100]}...\")\n",
        "    print(f\"Similarity Score: {similarity:.4f}\")\n",
        "    print(f\"Disease-related: {'YES' if similarity > 0.7 else 'NO'}\")\n",
        "    print(\"-\"*80)"
      ]
    },
    {
      "cell_type": "code",
      "execution_count": 26,
      "metadata": {
        "colab": {
          "base_uri": "https://localhost:8080/",
          "height": 1000
        },
        "id": "hBKnnzKsm4gS",
        "outputId": "8b8efe36-9364-41f8-fb75-e7656054077f"
      },
      "outputs": [
        {
          "output_type": "stream",
          "name": "stdout",
          "text": [
            "Calculating similarities for all tweets...\n"
          ]
        },
        {
          "output_type": "display_data",
          "data": {
            "text/plain": [
              "<Figure size 1200x500 with 2 Axes>"
            ],
            "image/png": "[encoded data removed]"
          },
          "metadata": {}
        },
        {
          "output_type": "display_data",
          "data": {
            "text/plain": [
              "<Figure size 800x600 with 1 Axes>"
            ],
            "image/png": "[encoded data removed]"
          },
          "metadata": {}
        },
        {
          "output_type": "stream",
          "name": "stdout",
          "text": [
            "\n",
            "Similarity Statistics:\n",
            "count    10000.000000\n",
            "mean         0.821392\n",
            "std          0.036583\n",
            "min          0.538395\n",
            "25%          0.801702\n",
            "50%          0.826055\n",
            "75%          0.846855\n",
            "max          0.930188\n",
            "Name: similarity_score, dtype: float64\n"
          ]
        }
      ],
      "source": [
        "# Calculate similarities for all tweets in sample\n",
        "print(\"Calculating similarities for all tweets...\")\n",
        "similarities = [calculate_similarity(emb, reference_embeddings) for emb in embeddings]\n",
        "\n",
        "df_sample['similarity_score'] = similarities\n",
        "\n",
        "# Visualize similarity distribution\n",
        "plt.figure(figsize=(12, 5))\n",
        "plt.subplot(1, 2, 1)\n",
        "plt.hist(df_sample['similarity_score'], bins=50, edgecolor='black', alpha=0.7, color='purple')\n",
        "plt.xlabel('Similarity Score')\n",
        "plt.ylabel('Frequency')\n",
        "plt.title('Distribution of Similarity Scores')\n",
        "plt.axvline(x=0.7, color='red', linestyle='--', label='Threshold (0.7)')\n",
        "plt.legend()\n",
        "\n",
        "plt.subplot(1, 2, 2)\n",
        "df_sample.boxplot(column='similarity_score', by='label', figsize=(8, 6))\n",
        "plt.xlabel('Label (0=Non-Disease, 1=Disease)')\n",
        "plt.ylabel('Similarity Score')\n",
        "plt.title('Similarity Scores by Label')\n",
        "plt.suptitle('')\n",
        "plt.tight_layout()\n",
        "plt.show()\n",
        "\n",
        "print(f\"\\nSimilarity Statistics:\")\n",
        "print(df_sample['similarity_score'].describe())"
      ]
    },
    {
      "cell_type": "markdown",
      "metadata": {
        "id": "pEVaVrLkm4gS"
      },
      "source": [
        "## Step 11: Symptom Extraction"
      ]
    },
    {
      "cell_type": "code",
      "execution_count": 27,
      "metadata": {
        "colab": {
          "base_uri": "https://localhost:8080/"
        },
        "id": "8ga0GSA6m4gS",
        "outputId": "94a233ba-5f72-4d83-828d-1f646532c583"
      },
      "outputs": [
        {
          "output_type": "stream",
          "name": "stdout",
          "text": [
            "Symptom Categories:\n",
            "\n",
            "Fever: ['fever', 'temperature', 'hot', 'burning', 'chills', 'shivering']\n",
            "\n",
            "Respiratory: ['cough', 'breathing', 'breathless', 'shortness of breath', 'chest pain', 'pneumonia', 'respiratory']\n",
            "\n",
            "Fatigue: ['tired', 'fatigue', 'exhausted', 'weak', 'weakness', 'energy']\n",
            "\n",
            "Loss of Senses: ['loss of taste', 'loss of smell', 'smell', 'taste', 'anosmia']\n",
            "\n",
            "Body Pain: ['body aches', 'muscle pain', 'joint pain', 'ache', 'pain', 'sore']\n",
            "\n",
            "Throat: ['sore throat', 'throat pain', 'throat', 'swallowing']\n",
            "\n",
            "Headache: ['headache', 'head pain', 'migraine']\n",
            "\n",
            "Gastrointestinal: ['nausea', 'vomiting', 'diarrhea', 'stomach', 'digestive']\n",
            "\n",
            "Other: ['dizzy', 'rash', 'congestion', 'runny nose', 'sneezing']\n"
          ]
        }
      ],
      "source": [
        "# Create comprehensive symptom dictionary\n",
        "symptom_categories = {\n",
        "    'Fever': ['fever', 'temperature', 'hot', 'burning', 'chills', 'shivering'],\n",
        "    'Respiratory': ['cough', 'breathing', 'breathless', 'shortness of breath', 'chest pain', 'pneumonia', 'respiratory'],\n",
        "    'Fatigue': ['tired', 'fatigue', 'exhausted', 'weak', 'weakness', 'energy'],\n",
        "    'Loss of Senses': ['loss of taste', 'loss of smell', 'smell', 'taste', 'anosmia'],\n",
        "    'Body Pain': ['body aches', 'muscle pain', 'joint pain', 'ache', 'pain', 'sore'],\n",
        "    'Throat': ['sore throat', 'throat pain', 'throat', 'swallowing'],\n",
        "    'Headache': ['headache', 'head pain', 'migraine'],\n",
        "    'Gastrointestinal': ['nausea', 'vomiting', 'diarrhea', 'stomach', 'digestive'],\n",
        "    'Other': ['dizzy', 'rash', 'congestion', 'runny nose', 'sneezing']\n",
        "}\n",
        "\n",
        "print(\"Symptom Categories:\")\n",
        "for category, symptoms in symptom_categories.items():\n",
        "    print(f\"\\n{category}: {symptoms}\")"
      ]
    },
    {
      "cell_type": "code",
      "execution_count": 28,
      "metadata": {
        "colab": {
          "base_uri": "https://localhost:8080/"
        },
        "id": "7wjjnc9Qm4gS",
        "outputId": "fb5b4e17-a908-43fb-8a5c-bf61cd4422d1"
      },
      "outputs": [
        {
          "output_type": "stream",
          "name": "stdout",
          "text": [
            "\n",
            "Testing symptom extraction on sample tweets:\n",
            "================================================================================\n",
            "\n",
            "Tweet: If I smelled the scent of hand sanitizers today on someone in the past, I would think they were so intoxicated that… https://t.co/QZvYbrOgb0...\n",
            "Extracted Symptoms:\n",
            "  - Loss of Senses: smell\n",
            "--------------------------------------------------------------------------------\n"
          ]
        }
      ],
      "source": [
        "def extract_symptoms(text, symptom_dict):\n",
        "    \"\"\"\n",
        "    Extract symptoms from text based on symptom dictionary\n",
        "    Returns a dictionary of found symptoms by category\n",
        "    \"\"\"\n",
        "    text = str(text).lower()\n",
        "    found_symptoms = {}\n",
        "\n",
        "    for category, symptoms in symptom_dict.items():\n",
        "        found = []\n",
        "        for symptom in symptoms:\n",
        "            if symptom in text:\n",
        "                found.append(symptom)\n",
        "\n",
        "        if found:\n",
        "            found_symptoms[category] = found\n",
        "\n",
        "    return found_symptoms\n",
        "\n",
        "# Test symptom extraction\n",
        "print(\"\\nTesting symptom extraction on sample tweets:\")\n",
        "print(\"=\"*80)\n",
        "\n",
        "for i in range(10):\n",
        "    tweet = df_sample['original_text'].iloc[i]\n",
        "    symptoms = extract_symptoms(tweet, symptom_categories)\n",
        "\n",
        "    if symptoms:  # Only show tweets with symptoms\n",
        "        print(f\"\\nTweet: {tweet[:150]}...\")\n",
        "        print(f\"Extracted Symptoms:\")\n",
        "        for category, symptom_list in symptoms.items():\n",
        "            print(f\"  - {category}: {', '.join(symptom_list)}\")\n",
        "        print(\"-\"*80)"
      ]
    },
    {
      "cell_type": "code",
      "execution_count": 29,
      "metadata": {
        "colab": {
          "base_uri": "https://localhost:8080/",
          "height": 663
        },
        "id": "FYz5QrV4m4gS",
        "outputId": "8aca125c-7934-447e-aded-170b0ae1d76b"
      },
      "outputs": [
        {
          "output_type": "display_data",
          "data": {
            "text/plain": [
              "<Figure size 1200x600 with 1 Axes>"
            ],
            "image/png": "[encoded data removed]"
          },
          "metadata": {}
        },
        {
          "output_type": "stream",
          "name": "stdout",
          "text": [
            "\n",
            "Symptom Mention Counts:\n",
            "Body Pain: 129 tweets\n",
            "Fever: 123 tweets\n",
            "Other: 69 tweets\n",
            "Fatigue: 45 tweets\n",
            "Loss of Senses: 27 tweets\n",
            "Respiratory: 24 tweets\n",
            "Gastrointestinal: 4 tweets\n",
            "Throat: 2 tweets\n",
            "Headache: 0 tweets\n"
          ]
        }
      ],
      "source": [
        "# Extract symptoms for all tweets\n",
        "df_sample['extracted_symptoms'] = df_sample['original_text'].apply(\n",
        "    lambda x: extract_symptoms(x, symptom_categories)\n",
        ")\n",
        "\n",
        "# Count symptom mentions by category\n",
        "symptom_counts = {category: 0 for category in symptom_categories.keys()}\n",
        "\n",
        "for symptoms_dict in df_sample['extracted_symptoms']:\n",
        "    for category in symptoms_dict.keys():\n",
        "        symptom_counts[category] += 1\n",
        "\n",
        "# Visualize symptom distribution\n",
        "plt.figure(figsize=(12, 6))\n",
        "categories = list(symptom_counts.keys())\n",
        "counts = list(symptom_counts.values())\n",
        "\n",
        "plt.barh(categories, counts, color='coral')\n",
        "plt.xlabel('Number of Tweets')\n",
        "plt.ylabel('Symptom Category')\n",
        "plt.title('Distribution of Symptom Mentions in Tweets')\n",
        "plt.tight_layout()\n",
        "plt.show()\n",
        "\n",
        "print(\"\\nSymptom Mention Counts:\")\n",
        "for category, count in sorted(symptom_counts.items(), key=lambda x: x[1], reverse=True):\n",
        "    print(f\"{category}: {count} tweets\")"
      ]
    },
    {
      "cell_type": "markdown",
      "metadata": {
        "id": "EaroqqCcm4gS"
      },
      "source": [
        "## Save Processed Data with Predictions"
      ]
    },
    {
      "cell_type": "code",
      "execution_count": 30,
      "metadata": {
        "colab": {
          "base_uri": "https://localhost:8080/"
        },
        "id": "-WpwbfjNm4gS",
        "outputId": "6534381a-ccba-43dc-a34d-4d0912d47afe"
      },
      "outputs": [
        {
          "output_type": "stream",
          "name": "stdout",
          "text": [
            "Enhanced dataset saved to '../data/processed/covid19_tweets_with_predictions.csv'\n"
          ]
        }
      ],
      "source": [
        "# Add predictions to dataframe\n",
        "df_sample['rf_prediction'] = 0\n",
        "df_sample['lr_prediction'] = 0\n",
        "\n",
        "# Add predictions for test indices\n",
        "test_indices = df_sample.iloc[len(X_train):].index\n",
        "df_sample.loc[test_indices, 'rf_prediction'] = y_pred_rf\n",
        "df_sample.loc[test_indices, 'lr_prediction'] = y_pred_lr\n",
        "\n",
        "# Save enhanced dataset\n",
        "df_sample.to_csv('covid19_tweets_with_predictions.csv', index=False)\n",
        "print(\"Enhanced dataset saved to '../data/processed/covid19_tweets_with_predictions.csv'\")"
      ]
    }
  ],
  "metadata": {
    "kernelspec": {
      "display_name": "Python 3",
      "language": "python",
      "name": "python3"
    },
    "language_info": {
      "codemirror_mode": {
        "name": "ipython",
        "version": 3
      },
      "file_extension": ".py",
      "mimetype": "text/x-python",
      "name": "python",
      "nbconvert_exporter": "python",
      "pygments_lexer": "ipython3",
      "version": "3.8.0"
    },
    "colab": {
      "provenance": []
    },
    "widgets": {
      "application/vnd.jupyter.widget-state+json": {
        "d1c71b11656f468d8502237aceb5f986": {
          "model_module": "@jupyter-widgets/controls",
          "model_name": "HBoxModel",
          "model_module_version": "1.5.0",
          "state": {
            "_dom_classes": [],
            "_model_module": "@jupyter-widgets/controls",
            "_model_module_version": "1.5.0",
            "_model_name": "HBoxModel",
            "_view_count": null,
            "_view_module": "@jupyter-widgets/controls",
            "_view_module_version": "1.5.0",
            "_view_name": "HBoxView",
            "box_style": "",
            "children": [
              "IPY_MODEL_ca4dc9623fd24affba26a930f8cdc2f8",
              "IPY_MODEL_2eaa5cfdf0d64c0285bd5eb8492230a3",
              "IPY_MODEL_7413bb55671b42afb87bdff4197b515d"
            ],
            "layout": "IPY_MODEL_d94b74ff3c7e40308bd144841cf1c261"
          }
        },
        "ca4dc9623fd24affba26a930f8cdc2f8": {
          "model_module": "@jupyter-widgets/controls",
          "model_name": "HTMLModel",
          "model_module_version": "1.5.0",
          "state": {
            "_dom_classes": [],
            "_model_module": "@jupyter-widgets/controls",
            "_model_module_version": "1.5.0",
            "_model_name": "HTMLModel",
            "_view_count": null,
            "_view_module": "@jupyter-widgets/controls",
            "_view_module_version": "1.5.0",
            "_view_name": "HTMLView",
            "description": "",
            "description_tooltip": null,
            "layout": "IPY_MODEL_72764c18fbdb4914bef166d5cdb3da83",
            "placeholder": "​",
            "style": "IPY_MODEL_5d3f1d2985254d7eb41368fc29a89755",
            "value": "tokenizer_config.json: 100%"
          }
        },
        "2eaa5cfdf0d64c0285bd5eb8492230a3": {
          "model_module": "@jupyter-widgets/controls",
          "model_name": "FloatProgressModel",
          "model_module_version": "1.5.0",
          "state": {
            "_dom_classes": [],
            "_model_module": "@jupyter-widgets/controls",
            "_model_module_version": "1.5.0",
            "_model_name": "FloatProgressModel",
            "_view_count": null,
            "_view_module": "@jupyter-widgets/controls",
            "_view_module_version": "1.5.0",
            "_view_name": "ProgressView",
            "bar_style": "success",
            "description": "",
            "description_tooltip": null,
            "layout": "IPY_MODEL_cb6c52a8ae324ea09f7f55ab916f8c7d",
            "max": 48,
            "min": 0,
            "orientation": "horizontal",
            "style": "IPY_MODEL_ad3e887e5bbf4964b075fb68d19c8a03",
            "value": 48
          }
        },
        "7413bb55671b42afb87bdff4197b515d": {
          "model_module": "@jupyter-widgets/controls",
          "model_name": "HTMLModel",
          "model_module_version": "1.5.0",
          "state": {
            "_dom_classes": [],
            "_model_module": "@jupyter-widgets/controls",
            "_model_module_version": "1.5.0",
            "_model_name": "HTMLModel",
            "_view_count": null,
            "_view_module": "@jupyter-widgets/controls",
            "_view_module_version": "1.5.0",
            "_view_name": "HTMLView",
            "description": "",
            "description_tooltip": null,
            "layout": "IPY_MODEL_384a172ccf9941fb98e1d60df5260ed5",
            "placeholder": "​",
            "style": "IPY_MODEL_8f37d4516627491b8bb0ade9056106aa",
            "value": " 48.0/48.0 [00:00&lt;00:00, 5.71kB/s]"
          }
        },
        "d94b74ff3c7e40308bd144841cf1c261": {
          "model_module": "@jupyter-widgets/base",
          "model_name": "LayoutModel",
          "model_module_version": "1.2.0",
          "state": {
            "_model_module": "@jupyter-widgets/base",
            "_model_module_version": "1.2.0",
            "_model_name": "LayoutModel",
            "_view_count": null,
            "_view_module": "@jupyter-widgets/base",
            "_view_module_version": "1.2.0",
            "_view_name": "LayoutView",
            "align_content": null,
            "align_items": null,
            "align_self": null,
            "border": null,
            "bottom": null,
            "display": null,
            "flex": null,
            "flex_flow": null,
            "grid_area": null,
            "grid_auto_columns": null,
            "grid_auto_flow": null,
            "grid_auto_rows": null,
            "grid_column": null,
            "grid_gap": null,
            "grid_row": null,
            "grid_template_areas": null,
            "grid_template_columns": null,
            "grid_template_rows": null,
            "height": null,
            "justify_content": null,
            "justify_items": null,
            "left": null,
            "margin": null,
            "max_height": null,
            "max_width": null,
            "min_height": null,
            "min_width": null,
            "object_fit": null,
            "object_position": null,
            "order": null,
            "overflow": null,
            "overflow_x": null,
            "overflow_y": null,
            "padding": null,
            "right": null,
            "top": null,
            "visibility": null,
            "width": null
          }
        },
        "72764c18fbdb4914bef166d5cdb3da83": {
          "model_module": "@jupyter-widgets/base",
          "model_name": "LayoutModel",
          "model_module_version": "1.2.0",
          "state": {
            "_model_module": "@jupyter-widgets/base",
            "_model_module_version": "1.2.0",
            "_model_name": "LayoutModel",
            "_view_count": null,
            "_view_module": "@jupyter-widgets/base",
            "_view_module_version": "1.2.0",
            "_view_name": "LayoutView",
            "align_content": null,
            "align_items": null,
            "align_self": null,
            "border": null,
            "bottom": null,
            "display": null,
            "flex": null,
            "flex_flow": null,
            "grid_area": null,
            "grid_auto_columns": null,
            "grid_auto_flow": null,
            "grid_auto_rows": null,
            "grid_column": null,
            "grid_gap": null,
            "grid_row": null,
            "grid_template_areas": null,
            "grid_template_columns": null,
            "grid_template_rows": null,
            "height": null,
            "justify_content": null,
            "justify_items": null,
            "left": null,
            "margin": null,
            "max_height": null,
            "max_width": null,
            "min_height": null,
            "min_width": null,
            "object_fit": null,
            "object_position": null,
            "order": null,
            "overflow": null,
            "overflow_x": null,
            "overflow_y": null,
            "padding": null,
            "right": null,
            "top": null,
            "visibility": null,
            "width": null
          }
        },
        "5d3f1d2985254d7eb41368fc29a89755": {
          "model_module": "@jupyter-widgets/controls",
          "model_name": "DescriptionStyleModel",
          "model_module_version": "1.5.0",
          "state": {
            "_model_module": "@jupyter-widgets/controls",
            "_model_module_version": "1.5.0",
            "_model_name": "DescriptionStyleModel",
            "_view_count": null,
            "_view_module": "@jupyter-widgets/base",
            "_view_module_version": "1.2.0",
            "_view_name": "StyleView",
            "description_width": ""
          }
        },
        "cb6c52a8ae324ea09f7f55ab916f8c7d": {
          "model_module": "@jupyter-widgets/base",
          "model_name": "LayoutModel",
          "model_module_version": "1.2.0",
          "state": {
            "_model_module": "@jupyter-widgets/base",
            "_model_module_version": "1.2.0",
            "_model_name": "LayoutModel",
            "_view_count": null,
            "_view_module": "@jupyter-widgets/base",
            "_view_module_version": "1.2.0",
            "_view_name": "LayoutView",
            "align_content": null,
            "align_items": null,
            "align_self": null,
            "border": null,
            "bottom": null,
            "display": null,
            "flex": null,
            "flex_flow": null,
            "grid_area": null,
            "grid_auto_columns": null,
            "grid_auto_flow": null,
            "grid_auto_rows": null,
            "grid_column": null,
            "grid_gap": null,
            "grid_row": null,
            "grid_template_areas": null,
            "grid_template_columns": null,
            "grid_template_rows": null,
            "height": null,
            "justify_content": null,
            "justify_items": null,
            "left": null,
            "margin": null,
            "max_height": null,
            "max_width": null,
            "min_height": null,
            "min_width": null,
            "object_fit": null,
            "object_position": null,
            "order": null,
            "overflow": null,
            "overflow_x": null,
            "overflow_y": null,
            "padding": null,
            "right": null,
            "top": null,
            "visibility": null,
            "width": null
          }
        },
        "ad3e887e5bbf4964b075fb68d19c8a03": {
          "model_module": "@jupyter-widgets/controls",
          "model_name": "ProgressStyleModel",
          "model_module_version": "1.5.0",
          "state": {
            "_model_module": "@jupyter-widgets/controls",
            "_model_module_version": "1.5.0",
            "_model_name": "ProgressStyleModel",
            "_view_count": null,
            "_view_module": "@jupyter-widgets/base",
            "_view_module_version": "1.2.0",
            "_view_name": "StyleView",
            "bar_color": null,
            "description_width": ""
          }
        },
        "384a172ccf9941fb98e1d60df5260ed5": {
          "model_module": "@jupyter-widgets/base",
          "model_name": "LayoutModel",
          "model_module_version": "1.2.0",
          "state": {
            "_model_module": "@jupyter-widgets/base",
            "_model_module_version": "1.2.0",
            "_model_name": "LayoutModel",
            "_view_count": null,
            "_view_module": "@jupyter-widgets/base",
            "_view_module_version": "1.2.0",
            "_view_name": "LayoutView",
            "align_content": null,
            "align_items": null,
            "align_self": null,
            "border": null,
            "bottom": null,
            "display": null,
            "flex": null,
            "flex_flow": null,
            "grid_area": null,
            "grid_auto_columns": null,
            "grid_auto_flow": null,
            "grid_auto_rows": null,
            "grid_column": null,
            "grid_gap": null,
            "grid_row": null,
            "grid_template_areas": null,
            "grid_template_columns": null,
            "grid_template_rows": null,
            "height": null,
            "justify_content": null,
            "justify_items": null,
            "left": null,
            "margin": null,
            "max_height": null,
            "max_width": null,
            "min_height": null,
            "min_width": null,
            "object_fit": null,
            "object_position": null,
            "order": null,
            "overflow": null,
            "overflow_x": null,
            "overflow_y": null,
            "padding": null,
            "right": null,
            "top": null,
            "visibility": null,
            "width": null
          }
        },
        "8f37d4516627491b8bb0ade9056106aa": {
          "model_module": "@jupyter-widgets/controls",
          "model_name": "DescriptionStyleModel",
          "model_module_version": "1.5.0",
          "state": {
            "_model_module": "@jupyter-widgets/controls",
            "_model_module_version": "1.5.0",
            "_model_name": "DescriptionStyleModel",
            "_view_count": null,
            "_view_module": "@jupyter-widgets/base",
            "_view_module_version": "1.2.0",
            "_view_name": "StyleView",
            "description_width": ""
          }
        },
        "a134abffb3ec48f98367393d717a0f94": {
          "model_module": "@jupyter-widgets/controls",
          "model_name": "HBoxModel",
          "model_module_version": "1.5.0",
          "state": {
            "_dom_classes": [],
            "_model_module": "@jupyter-widgets/controls",
            "_model_module_version": "1.5.0",
            "_model_name": "HBoxModel",
            "_view_count": null,
            "_view_module": "@jupyter-widgets/controls",
            "_view_module_version": "1.5.0",
            "_view_name": "HBoxView",
            "box_style": "",
            "children": [
              "IPY_MODEL_0966e621cf1b4fa7896c7e2a8396c518",
              "IPY_MODEL_2455933f981948a587c151d9afdf628d",
              "IPY_MODEL_a05019c9e3804366bba644cca3b299de"
            ],
            "layout": "IPY_MODEL_067c84a0331543fd8ca4d73327144c80"
          }
        },
        "0966e621cf1b4fa7896c7e2a8396c518": {
          "model_module": "@jupyter-widgets/controls",
          "model_name": "HTMLModel",
          "model_module_version": "1.5.0",
          "state": {
            "_dom_classes": [],
            "_model_module": "@jupyter-widgets/controls",
            "_model_module_version": "1.5.0",
            "_model_name": "HTMLModel",
            "_view_count": null,
            "_view_module": "@jupyter-widgets/controls",
            "_view_module_version": "1.5.0",
            "_view_name": "HTMLView",
            "description": "",
            "description_tooltip": null,
            "layout": "IPY_MODEL_567e09a1d70d4415b7cfb75d3387b15a",
            "placeholder": "​",
            "style": "IPY_MODEL_dc4f3b519c9140d08b49e7a08b4924c6",
            "value": "vocab.txt: 100%"
          }
        },
        "2455933f981948a587c151d9afdf628d": {
          "model_module": "@jupyter-widgets/controls",
          "model_name": "FloatProgressModel",
          "model_module_version": "1.5.0",
          "state": {
            "_dom_classes": [],
            "_model_module": "@jupyter-widgets/controls",
            "_model_module_version": "1.5.0",
            "_model_name": "FloatProgressModel",
            "_view_count": null,
            "_view_module": "@jupyter-widgets/controls",
            "_view_module_version": "1.5.0",
            "_view_name": "ProgressView",
            "bar_style": "success",
            "description": "",
            "description_tooltip": null,
            "layout": "IPY_MODEL_b0413092a6624be1a77f76f67d9f172c",
            "max": 231508,
            "min": 0,
            "orientation": "horizontal",
            "style": "IPY_MODEL_4da4e01b36bc46749c932729f6dfa531",
            "value": 231508
          }
        },
        "a05019c9e3804366bba644cca3b299de": {
          "model_module": "@jupyter-widgets/controls",
          "model_name": "HTMLModel",
          "model_module_version": "1.5.0",
          "state": {
            "_dom_classes": [],
            "_model_module": "@jupyter-widgets/controls",
            "_model_module_version": "1.5.0",
            "_model_name": "HTMLModel",
            "_view_count": null,
            "_view_module": "@jupyter-widgets/controls",
            "_view_module_version": "1.5.0",
            "_view_name": "HTMLView",
            "description": "",
            "description_tooltip": null,
            "layout": "IPY_MODEL_76b5753272b648029576f641edf74f56",
            "placeholder": "​",
            "style": "IPY_MODEL_c9fe28c2fb444532b128830c9f6081d6",
            "value": " 232k/232k [00:00&lt;00:00, 5.70MB/s]"
          }
        },
        "067c84a0331543fd8ca4d73327144c80": {
          "model_module": "@jupyter-widgets/base",
          "model_name": "LayoutModel",
          "model_module_version": "1.2.0",
          "state": {
            "_model_module": "@jupyter-widgets/base",
            "_model_module_version": "1.2.0",
            "_model_name": "LayoutModel",
            "_view_count": null,
            "_view_module": "@jupyter-widgets/base",
            "_view_module_version": "1.2.0",
            "_view_name": "LayoutView",
            "align_content": null,
            "align_items": null,
            "align_self": null,
            "border": null,
            "bottom": null,
            "display": null,
            "flex": null,
            "flex_flow": null,
            "grid_area": null,
            "grid_auto_columns": null,
            "grid_auto_flow": null,
            "grid_auto_rows": null,
            "grid_column": null,
            "grid_gap": null,
            "grid_row": null,
            "grid_template_areas": null,
            "grid_template_columns": null,
            "grid_template_rows": null,
            "height": null,
            "justify_content": null,
            "justify_items": null,
            "left": null,
            "margin": null,
            "max_height": null,
            "max_width": null,
            "min_height": null,
            "min_width": null,
            "object_fit": null,
            "object_position": null,
            "order": null,
            "overflow": null,
            "overflow_x": null,
            "overflow_y": null,
            "padding": null,
            "right": null,
            "top": null,
            "visibility": null,
            "width": null
          }
        },
        "567e09a1d70d4415b7cfb75d3387b15a": {
          "model_module": "@jupyter-widgets/base",
          "model_name": "LayoutModel",
          "model_module_version": "1.2.0",
          "state": {
            "_model_module": "@jupyter-widgets/base",
            "_model_module_version": "1.2.0",
            "_model_name": "LayoutModel",
            "_view_count": null,
            "_view_module": "@jupyter-widgets/base",
            "_view_module_version": "1.2.0",
            "_view_name": "LayoutView",
            "align_content": null,
            "align_items": null,
            "align_self": null,
            "border": null,
            "bottom": null,
            "display": null,
            "flex": null,
            "flex_flow": null,
            "grid_area": null,
            "grid_auto_columns": null,
            "grid_auto_flow": null,
            "grid_auto_rows": null,
            "grid_column": null,
            "grid_gap": null,
            "grid_row": null,
            "grid_template_areas": null,
            "grid_template_columns": null,
            "grid_template_rows": null,
            "height": null,
            "justify_content": null,
            "justify_items": null,
            "left": null,
            "margin": null,
            "max_height": null,
            "max_width": null,
            "min_height": null,
            "min_width": null,
            "object_fit": null,
            "object_position": null,
            "order": null,
            "overflow": null,
            "overflow_x": null,
            "overflow_y": null,
            "padding": null,
            "right": null,
            "top": null,
            "visibility": null,
            "width": null
          }
        },
        "dc4f3b519c9140d08b49e7a08b4924c6": {
          "model_module": "@jupyter-widgets/controls",
          "model_name": "DescriptionStyleModel",
          "model_module_version": "1.5.0",
          "state": {
            "_model_module": "@jupyter-widgets/controls",
            "_model_module_version": "1.5.0",
            "_model_name": "DescriptionStyleModel",
            "_view_count": null,
            "_view_module": "@jupyter-widgets/base",
            "_view_module_version": "1.2.0",
            "_view_name": "StyleView",
            "description_width": ""
          }
        },
        "b0413092a6624be1a77f76f67d9f172c": {
          "model_module": "@jupyter-widgets/base",
          "model_name": "LayoutModel",
          "model_module_version": "1.2.0",
          "state": {
            "_model_module": "@jupyter-widgets/base",
            "_model_module_version": "1.2.0",
            "_model_name": "LayoutModel",
            "_view_count": null,
            "_view_module": "@jupyter-widgets/base",
            "_view_module_version": "1.2.0",
            "_view_name": "LayoutView",
            "align_content": null,
            "align_items": null,
            "align_self": null,
            "border": null,
            "bottom": null,
            "display": null,
            "flex": null,
            "flex_flow": null,
            "grid_area": null,
            "grid_auto_columns": null,
            "grid_auto_flow": null,
            "grid_auto_rows": null,
            "grid_column": null,
            "grid_gap": null,
            "grid_row": null,
            "grid_template_areas": null,
            "grid_template_columns": null,
            "grid_template_rows": null,
            "height": null,
            "justify_content": null,
            "justify_items": null,
            "left": null,
            "margin": null,
            "max_height": null,
            "max_width": null,
            "min_height": null,
            "min_width": null,
            "object_fit": null,
            "object_position": null,
            "order": null,
            "overflow": null,
            "overflow_x": null,
            "overflow_y": null,
            "padding": null,
            "right": null,
            "top": null,
            "visibility": null,
            "width": null
          }
        },
        "4da4e01b36bc46749c932729f6dfa531": {
          "model_module": "@jupyter-widgets/controls",
          "model_name": "ProgressStyleModel",
          "model_module_version": "1.5.0",
          "state": {
            "_model_module": "@jupyter-widgets/controls",
            "_model_module_version": "1.5.0",
            "_model_name": "ProgressStyleModel",
            "_view_count": null,
            "_view_module": "@jupyter-widgets/base",
            "_view_module_version": "1.2.0",
            "_view_name": "StyleView",
            "bar_color": null,
            "description_width": ""
          }
        },
        "76b5753272b648029576f641edf74f56": {
          "model_module": "@jupyter-widgets/base",
          "model_name": "LayoutModel",
          "model_module_version": "1.2.0",
          "state": {
            "_model_module": "@jupyter-widgets/base",
            "_model_module_version": "1.2.0",
            "_model_name": "LayoutModel",
            "_view_count": null,
            "_view_module": "@jupyter-widgets/base",
            "_view_module_version": "1.2.0",
            "_view_name": "LayoutView",
            "align_content": null,
            "align_items": null,
            "align_self": null,
            "border": null,
            "bottom": null,
            "display": null,
            "flex": null,
            "flex_flow": null,
            "grid_area": null,
            "grid_auto_columns": null,
            "grid_auto_flow": null,
            "grid_auto_rows": null,
            "grid_column": null,
            "grid_gap": null,
            "grid_row": null,
            "grid_template_areas": null,
            "grid_template_columns": null,
            "grid_template_rows": null,
            "height": null,
            "justify_content": null,
            "justify_items": null,
            "left": null,
            "margin": null,
            "max_height": null,
            "max_width": null,
            "min_height": null,
            "min_width": null,
            "object_fit": null,
            "object_position": null,
            "order": null,
            "overflow": null,
            "overflow_x": null,
            "overflow_y": null,
            "padding": null,
            "right": null,
            "top": null,
            "visibility": null,
            "width": null
          }
        },
        "c9fe28c2fb444532b128830c9f6081d6": {
          "model_module": "@jupyter-widgets/controls",
          "model_name": "DescriptionStyleModel",
          "model_module_version": "1.5.0",
          "state": {
            "_model_module": "@jupyter-widgets/controls",
            "_model_module_version": "1.5.0",
            "_model_name": "DescriptionStyleModel",
            "_view_count": null,
            "_view_module": "@jupyter-widgets/base",
            "_view_module_version": "1.2.0",
            "_view_name": "StyleView",
            "description_width": ""
          }
        },
        "75766dcf6811404280db70db0cfbd760": {
          "model_module": "@jupyter-widgets/controls",
          "model_name": "HBoxModel",
          "model_module_version": "1.5.0",
          "state": {
            "_dom_classes": [],
            "_model_module": "@jupyter-widgets/controls",
            "_model_module_version": "1.5.0",
            "_model_name": "HBoxModel",
            "_view_count": null,
            "_view_module": "@jupyter-widgets/controls",
            "_view_module_version": "1.5.0",
            "_view_name": "HBoxView",
            "box_style": "",
            "children": [
              "IPY_MODEL_5d77d5e5d431488fb845f3b73fe2488e",
              "IPY_MODEL_eb76601d99794a938e8d03d44d0da3b3",
              "IPY_MODEL_506492bd401d4853a268e3d55c046681"
            ],
            "layout": "IPY_MODEL_c52628da46b54120b0c3b45cea9a6421"
          }
        },
        "5d77d5e5d431488fb845f3b73fe2488e": {
          "model_module": "@jupyter-widgets/controls",
          "model_name": "HTMLModel",
          "model_module_version": "1.5.0",
          "state": {
            "_dom_classes": [],
            "_model_module": "@jupyter-widgets/controls",
            "_model_module_version": "1.5.0",
            "_model_name": "HTMLModel",
            "_view_count": null,
            "_view_module": "@jupyter-widgets/controls",
            "_view_module_version": "1.5.0",
            "_view_name": "HTMLView",
            "description": "",
            "description_tooltip": null,
            "layout": "IPY_MODEL_fa340302ca2e420ca2b6e6e4d2f6ac01",
            "placeholder": "​",
            "style": "IPY_MODEL_b5e40e71dda94a7dba812dbf9200b193",
            "value": "tokenizer.json: 100%"
          }
        },
        "eb76601d99794a938e8d03d44d0da3b3": {
          "model_module": "@jupyter-widgets/controls",
          "model_name": "FloatProgressModel",
          "model_module_version": "1.5.0",
          "state": {
            "_dom_classes": [],
            "_model_module": "@jupyter-widgets/controls",
            "_model_module_version": "1.5.0",
            "_model_name": "FloatProgressModel",
            "_view_count": null,
            "_view_module": "@jupyter-widgets/controls",
            "_view_module_version": "1.5.0",
            "_view_name": "ProgressView",
            "bar_style": "success",
            "description": "",
            "description_tooltip": null,
            "layout": "IPY_MODEL_5f6cea834c514df2a8d8d34993b96e17",
            "max": 466062,
            "min": 0,
            "orientation": "horizontal",
            "style": "IPY_MODEL_45807feff93d4e1b8716b951782e1933",
            "value": 466062
          }
        },
        "506492bd401d4853a268e3d55c046681": {
          "model_module": "@jupyter-widgets/controls",
          "model_name": "HTMLModel",
          "model_module_version": "1.5.0",
          "state": {
            "_dom_classes": [],
            "_model_module": "@jupyter-widgets/controls",
            "_model_module_version": "1.5.0",
            "_model_name": "HTMLModel",
            "_view_count": null,
            "_view_module": "@jupyter-widgets/controls",
            "_view_module_version": "1.5.0",
            "_view_name": "HTMLView",
            "description": "",
            "description_tooltip": null,
            "layout": "IPY_MODEL_7ed810cf12b740c1bde85bde5314741b",
            "placeholder": "​",
            "style": "IPY_MODEL_4a3c4cb16f434c4fa332a068416c9b35",
            "value": " 466k/466k [00:00&lt;00:00, 9.06MB/s]"
          }
        },
        "c52628da46b54120b0c3b45cea9a6421": {
          "model_module": "@jupyter-widgets/base",
          "model_name": "LayoutModel",
          "model_module_version": "1.2.0",
          "state": {
            "_model_module": "@jupyter-widgets/base",
            "_model_module_version": "1.2.0",
            "_model_name": "LayoutModel",
            "_view_count": null,
            "_view_module": "@jupyter-widgets/base",
            "_view_module_version": "1.2.0",
            "_view_name": "LayoutView",
            "align_content": null,
            "align_items": null,
            "align_self": null,
            "border": null,
            "bottom": null,
            "display": null,
            "flex": null,
            "flex_flow": null,
            "grid_area": null,
            "grid_auto_columns": null,
            "grid_auto_flow": null,
            "grid_auto_rows": null,
            "grid_column": null,
            "grid_gap": null,
            "grid_row": null,
            "grid_template_areas": null,
            "grid_template_columns": null,
            "grid_template_rows": null,
            "height": null,
            "justify_content": null,
            "justify_items": null,
            "left": null,
            "margin": null,
            "max_height": null,
            "max_width": null,
            "min_height": null,
            "min_width": null,
            "object_fit": null,
            "object_position": null,
            "order": null,
            "overflow": null,
            "overflow_x": null,
            "overflow_y": null,
            "padding": null,
            "right": null,
            "top": null,
            "visibility": null,
            "width": null
          }
        },
        "fa340302ca2e420ca2b6e6e4d2f6ac01": {
          "model_module": "@jupyter-widgets/base",
          "model_name": "LayoutModel",
          "model_module_version": "1.2.0",
          "state": {
            "_model_module": "@jupyter-widgets/base",
            "_model_module_version": "1.2.0",
            "_model_name": "LayoutModel",
            "_view_count": null,
            "_view_module": "@jupyter-widgets/base",
            "_view_module_version": "1.2.0",
            "_view_name": "LayoutView",
            "align_content": null,
            "align_items": null,
            "align_self": null,
            "border": null,
            "bottom": null,
            "display": null,
            "flex": null,
            "flex_flow": null,
            "grid_area": null,
            "grid_auto_columns": null,
            "grid_auto_flow": null,
            "grid_auto_rows": null,
            "grid_column": null,
            "grid_gap": null,
            "grid_row": null,
            "grid_template_areas": null,
            "grid_template_columns": null,
            "grid_template_rows": null,
            "height": null,
            "justify_content": null,
            "justify_items": null,
            "left": null,
            "margin": null,
            "max_height": null,
            "max_width": null,
            "min_height": null,
            "min_width": null,
            "object_fit": null,
            "object_position": null,
            "order": null,
            "overflow": null,
            "overflow_x": null,
            "overflow_y": null,
            "padding": null,
            "right": null,
            "top": null,
            "visibility": null,
            "width": null
          }
        },
        "b5e40e71dda94a7dba812dbf9200b193": {
          "model_module": "@jupyter-widgets/controls",
          "model_name": "DescriptionStyleModel",
          "model_module_version": "1.5.0",
          "state": {
            "_model_module": "@jupyter-widgets/controls",
            "_model_module_version": "1.5.0",
            "_model_name": "DescriptionStyleModel",
            "_view_count": null,
            "_view_module": "@jupyter-widgets/base",
            "_view_module_version": "1.2.0",
            "_view_name": "StyleView",
            "description_width": ""
          }
        },
        "5f6cea834c514df2a8d8d34993b96e17": {
          "model_module": "@jupyter-widgets/base",
          "model_name": "LayoutModel",
          "model_module_version": "1.2.0",
          "state": {
            "_model_module": "@jupyter-widgets/base",
            "_model_module_version": "1.2.0",
            "_model_name": "LayoutModel",
            "_view_count": null,
            "_view_module": "@jupyter-widgets/base",
            "_view_module_version": "1.2.0",
            "_view_name": "LayoutView",
            "align_content": null,
            "align_items": null,
            "align_self": null,
            "border": null,
            "bottom": null,
            "display": null,
            "flex": null,
            "flex_flow": null,
            "grid_area": null,
            "grid_auto_columns": null,
            "grid_auto_flow": null,
            "grid_auto_rows": null,
            "grid_column": null,
            "grid_gap": null,
            "grid_row": null,
            "grid_template_areas": null,
            "grid_template_columns": null,
            "grid_template_rows": null,
            "height": null,
            "justify_content": null,
            "justify_items": null,
            "left": null,
            "margin": null,
            "max_height": null,
            "max_width": null,
            "min_height": null,
            "min_width": null,
            "object_fit": null,
            "object_position": null,
            "order": null,
            "overflow": null,
            "overflow_x": null,
            "overflow_y": null,
            "padding": null,
            "right": null,
            "top": null,
            "visibility": null,
            "width": null
          }
        },
        "45807feff93d4e1b8716b951782e1933": {
          "model_module": "@jupyter-widgets/controls",
          "model_name": "ProgressStyleModel",
          "model_module_version": "1.5.0",
          "state": {
            "_model_module": "@jupyter-widgets/controls",
            "_model_module_version": "1.5.0",
            "_model_name": "ProgressStyleModel",
            "_view_count": null,
            "_view_module": "@jupyter-widgets/base",
            "_view_module_version": "1.2.0",
            "_view_name": "StyleView",
            "bar_color": null,
            "description_width": ""
          }
        },
        "7ed810cf12b740c1bde85bde5314741b": {
          "model_module": "@jupyter-widgets/base",
          "model_name": "LayoutModel",
          "model_module_version": "1.2.0",
          "state": {
            "_model_module": "@jupyter-widgets/base",
            "_model_module_version": "1.2.0",
            "_model_name": "LayoutModel",
            "_view_count": null,
            "_view_module": "@jupyter-widgets/base",
            "_view_module_version": "1.2.0",
            "_view_name": "LayoutView",
            "align_content": null,
            "align_items": null,
            "align_self": null,
            "border": null,
            "bottom": null,
            "display": null,
            "flex": null,
            "flex_flow": null,
            "grid_area": null,
            "grid_auto_columns": null,
            "grid_auto_flow": null,
            "grid_auto_rows": null,
            "grid_column": null,
            "grid_gap": null,
            "grid_row": null,
            "grid_template_areas": null,
            "grid_template_columns": null,
            "grid_template_rows": null,
            "height": null,
            "justify_content": null,
            "justify_items": null,
            "left": null,
            "margin": null,
            "max_height": null,
            "max_width": null,
            "min_height": null,
            "min_width": null,
            "object_fit": null,
            "object_position": null,
            "order": null,
            "overflow": null,
            "overflow_x": null,
            "overflow_y": null,
            "padding": null,
            "right": null,
            "top": null,
            "visibility": null,
            "width": null
          }
        },
        "4a3c4cb16f434c4fa332a068416c9b35": {
          "model_module": "@jupyter-widgets/controls",
          "model_name": "DescriptionStyleModel",
          "model_module_version": "1.5.0",
          "state": {
            "_model_module": "@jupyter-widgets/controls",
            "_model_module_version": "1.5.0",
            "_model_name": "DescriptionStyleModel",
            "_view_count": null,
            "_view_module": "@jupyter-widgets/base",
            "_view_module_version": "1.2.0",
            "_view_name": "StyleView",
            "description_width": ""
          }
        },
        "e27a16259c954ecc9d30d7d35bdab9de": {
          "model_module": "@jupyter-widgets/controls",
          "model_name": "HBoxModel",
          "model_module_version": "1.5.0",
          "state": {
            "_dom_classes": [],
            "_model_module": "@jupyter-widgets/controls",
            "_model_module_version": "1.5.0",
            "_model_name": "HBoxModel",
            "_view_count": null,
            "_view_module": "@jupyter-widgets/controls",
            "_view_module_version": "1.5.0",
            "_view_name": "HBoxView",
            "box_style": "",
            "children": [
              "IPY_MODEL_372af27f0ccd46f1b902fe1e0b549e70",
              "IPY_MODEL_b591c984df984decbd26c2389d4a4a55",
              "IPY_MODEL_cee6c7259b3046ba9732b123c10490ae"
            ],
            "layout": "IPY_MODEL_3812399c5aa84c55b7cb4b5e4c96b924"
          }
        },
        "372af27f0ccd46f1b902fe1e0b549e70": {
          "model_module": "@jupyter-widgets/controls",
          "model_name": "HTMLModel",
          "model_module_version": "1.5.0",
          "state": {
            "_dom_classes": [],
            "_model_module": "@jupyter-widgets/controls",
            "_model_module_version": "1.5.0",
            "_model_name": "HTMLModel",
            "_view_count": null,
            "_view_module": "@jupyter-widgets/controls",
            "_view_module_version": "1.5.0",
            "_view_name": "HTMLView",
            "description": "",
            "description_tooltip": null,
            "layout": "IPY_MODEL_52212c81a6cd4c0e89bc85a036299b46",
            "placeholder": "​",
            "style": "IPY_MODEL_94627107c3f44632be6f685062635fd1",
            "value": "config.json: 100%"
          }
        },
        "b591c984df984decbd26c2389d4a4a55": {
          "model_module": "@jupyter-widgets/controls",
          "model_name": "FloatProgressModel",
          "model_module_version": "1.5.0",
          "state": {
            "_dom_classes": [],
            "_model_module": "@jupyter-widgets/controls",
            "_model_module_version": "1.5.0",
            "_model_name": "FloatProgressModel",
            "_view_count": null,
            "_view_module": "@jupyter-widgets/controls",
            "_view_module_version": "1.5.0",
            "_view_name": "ProgressView",
            "bar_style": "success",
            "description": "",
            "description_tooltip": null,
            "layout": "IPY_MODEL_cbbd600575c642b49b9d8c89c8387e68",
            "max": 570,
            "min": 0,
            "orientation": "horizontal",
            "style": "IPY_MODEL_096da7c3dbd94089b4dc500e3dba6736",
            "value": 570
          }
        },
        "cee6c7259b3046ba9732b123c10490ae": {
          "model_module": "@jupyter-widgets/controls",
          "model_name": "HTMLModel",
          "model_module_version": "1.5.0",
          "state": {
            "_dom_classes": [],
            "_model_module": "@jupyter-widgets/controls",
            "_model_module_version": "1.5.0",
            "_model_name": "HTMLModel",
            "_view_count": null,
            "_view_module": "@jupyter-widgets/controls",
            "_view_module_version": "1.5.0",
            "_view_name": "HTMLView",
            "description": "",
            "description_tooltip": null,
            "layout": "IPY_MODEL_3f326352bb1149daacb7f2bff34eba02",
            "placeholder": "​",
            "style": "IPY_MODEL_ec49b0083a2e4c1eb128bde1346da561",
            "value": " 570/570 [00:00&lt;00:00, 70.2kB/s]"
          }
        },
        "3812399c5aa84c55b7cb4b5e4c96b924": {
          "model_module": "@jupyter-widgets/base",
          "model_name": "LayoutModel",
          "model_module_version": "1.2.0",
          "state": {
            "_model_module": "@jupyter-widgets/base",
            "_model_module_version": "1.2.0",
            "_model_name": "LayoutModel",
            "_view_count": null,
            "_view_module": "@jupyter-widgets/base",
            "_view_module_version": "1.2.0",
            "_view_name": "LayoutView",
            "align_content": null,
            "align_items": null,
            "align_self": null,
            "border": null,
            "bottom": null,
            "display": null,
            "flex": null,
            "flex_flow": null,
            "grid_area": null,
            "grid_auto_columns": null,
            "grid_auto_flow": null,
            "grid_auto_rows": null,
            "grid_column": null,
            "grid_gap": null,
            "grid_row": null,
            "grid_template_areas": null,
            "grid_template_columns": null,
            "grid_template_rows": null,
            "height": null,
            "justify_content": null,
            "justify_items": null,
            "left": null,
            "margin": null,
            "max_height": null,
            "max_width": null,
            "min_height": null,
            "min_width": null,
            "object_fit": null,
            "object_position": null,
            "order": null,
            "overflow": null,
            "overflow_x": null,
            "overflow_y": null,
            "padding": null,
            "right": null,
            "top": null,
            "visibility": null,
            "width": null
          }
        },
        "52212c81a6cd4c0e89bc85a036299b46": {
          "model_module": "@jupyter-widgets/base",
          "model_name": "LayoutModel",
          "model_module_version": "1.2.0",
          "state": {
            "_model_module": "@jupyter-widgets/base",
            "_model_module_version": "1.2.0",
            "_model_name": "LayoutModel",
            "_view_count": null,
            "_view_module": "@jupyter-widgets/base",
            "_view_module_version": "1.2.0",
            "_view_name": "LayoutView",
            "align_content": null,
            "align_items": null,
            "align_self": null,
            "border": null,
            "bottom": null,
            "display": null,
            "flex": null,
            "flex_flow": null,
            "grid_area": null,
            "grid_auto_columns": null,
            "grid_auto_flow": null,
            "grid_auto_rows": null,
            "grid_column": null,
            "grid_gap": null,
            "grid_row": null,
            "grid_template_areas": null,
            "grid_template_columns": null,
            "grid_template_rows": null,
            "height": null,
            "justify_content": null,
            "justify_items": null,
            "left": null,
            "margin": null,
            "max_height": null,
            "max_width": null,
            "min_height": null,
            "min_width": null,
            "object_fit": null,
            "object_position": null,
            "order": null,
            "overflow": null,
            "overflow_x": null,
            "overflow_y": null,
            "padding": null,
            "right": null,
            "top": null,
            "visibility": null,
            "width": null
          }
        },
        "94627107c3f44632be6f685062635fd1": {
          "model_module": "@jupyter-widgets/controls",
          "model_name": "DescriptionStyleModel",
          "model_module_version": "1.5.0",
          "state": {
            "_model_module": "@jupyter-widgets/controls",
            "_model_module_version": "1.5.0",
            "_model_name": "DescriptionStyleModel",
            "_view_count": null,
            "_view_module": "@jupyter-widgets/base",
            "_view_module_version": "1.2.0",
            "_view_name": "StyleView",
            "description_width": ""
          }
        },
        "cbbd600575c642b49b9d8c89c8387e68": {
          "model_module": "@jupyter-widgets/base",
          "model_name": "LayoutModel",
          "model_module_version": "1.2.0",
          "state": {
            "_model_module": "@jupyter-widgets/base",
            "_model_module_version": "1.2.0",
            "_model_name": "LayoutModel",
            "_view_count": null,
            "_view_module": "@jupyter-widgets/base",
            "_view_module_version": "1.2.0",
            "_view_name": "LayoutView",
            "align_content": null,
            "align_items": null,
            "align_self": null,
            "border": null,
            "bottom": null,
            "display": null,
            "flex": null,
            "flex_flow": null,
            "grid_area": null,
            "grid_auto_columns": null,
            "grid_auto_flow": null,
            "grid_auto_rows": null,
            "grid_column": null,
            "grid_gap": null,
            "grid_row": null,
            "grid_template_areas": null,
            "grid_template_columns": null,
            "grid_template_rows": null,
            "height": null,
            "justify_content": null,
            "justify_items": null,
            "left": null,
            "margin": null,
            "max_height": null,
            "max_width": null,
            "min_height": null,
            "min_width": null,
            "object_fit": null,
            "object_position": null,
            "order": null,
            "overflow": null,
            "overflow_x": null,
            "overflow_y": null,
            "padding": null,
            "right": null,
            "top": null,
            "visibility": null,
            "width": null
          }
        },
        "096da7c3dbd94089b4dc500e3dba6736": {
          "model_module": "@jupyter-widgets/controls",
          "model_name": "ProgressStyleModel",
          "model_module_version": "1.5.0",
          "state": {
            "_model_module": "@jupyter-widgets/controls",
            "_model_module_version": "1.5.0",
            "_model_name": "ProgressStyleModel",
            "_view_count": null,
            "_view_module": "@jupyter-widgets/base",
            "_view_module_version": "1.2.0",
            "_view_name": "StyleView",
            "bar_color": null,
            "description_width": ""
          }
        },
        "3f326352bb1149daacb7f2bff34eba02": {
          "model_module": "@jupyter-widgets/base",
          "model_name": "LayoutModel",
          "model_module_version": "1.2.0",
          "state": {
            "_model_module": "@jupyter-widgets/base",
            "_model_module_version": "1.2.0",
            "_model_name": "LayoutModel",
            "_view_count": null,
            "_view_module": "@jupyter-widgets/base",
            "_view_module_version": "1.2.0",
            "_view_name": "LayoutView",
            "align_content": null,
            "align_items": null,
            "align_self": null,
            "border": null,
            "bottom": null,
            "display": null,
            "flex": null,
            "flex_flow": null,
            "grid_area": null,
            "grid_auto_columns": null,
            "grid_auto_flow": null,
            "grid_auto_rows": null,
            "grid_column": null,
            "grid_gap": null,
            "grid_row": null,
            "grid_template_areas": null,
            "grid_template_columns": null,
            "grid_template_rows": null,
            "height": null,
            "justify_content": null,
            "justify_items": null,
            "left": null,
            "margin": null,
            "max_height": null,
            "max_width": null,
            "min_height": null,
            "min_width": null,
            "object_fit": null,
            "object_position": null,
            "order": null,
            "overflow": null,
            "overflow_x": null,
            "overflow_y": null,
            "padding": null,
            "right": null,
            "top": null,
            "visibility": null,
            "width": null
          }
        },
        "ec49b0083a2e4c1eb128bde1346da561": {
          "model_module": "@jupyter-widgets/controls",
          "model_name": "DescriptionStyleModel",
          "model_module_version": "1.5.0",
          "state": {
            "_model_module": "@jupyter-widgets/controls",
            "_model_module_version": "1.5.0",
            "_model_name": "DescriptionStyleModel",
            "_view_count": null,
            "_view_module": "@jupyter-widgets/base",
            "_view_module_version": "1.2.0",
            "_view_name": "StyleView",
            "description_width": ""
          }
        }
      }
    }
  },
  "nbformat": 4,
  "nbformat_minor": 0
}